{
 "cells": [
  {
   "cell_type": "code",
   "execution_count": 1,
   "id": "c20168c6",
   "metadata": {},
   "outputs": [],
   "source": [
    "from bs4 import BeautifulSoup\n",
    "# import xml.etree.ElementTree as et\n",
    "import glob\n",
    "import pandas as pd\n",
    "import numpy as np\n",
    "import matplotlib.pyplot as plt\n",
    "import seaborn as sn\n",
    "import dask.bag as bag\n",
    "from dask.diagnostics import ProgressBar\n",
    "from PIL import Image\n",
    "import math"
   ]
  },
  {
   "cell_type": "code",
   "execution_count": 2,
   "id": "ab4a2373",
   "metadata": {},
   "outputs": [],
   "source": [
    "sn.set(rc={'figure.figsize':(11,8)})"
   ]
  },
  {
   "cell_type": "code",
   "execution_count": 3,
   "id": "4b765f97",
   "metadata": {},
   "outputs": [
    {
     "name": "stdout",
     "output_type": "stream",
     "text": [
      "112039\n"
     ]
    }
   ],
   "source": [
    "# xml_files = glob.glob('D:/MSc scriptie/Data/xml2/*.xml')\n",
    "xml_files = glob.glob('../Data/Rijksmuseum/xml2/*.xml')\n",
    "print(len(xml_files))\n",
    "    "
   ]
  },
  {
   "cell_type": "code",
   "execution_count": 4,
   "id": "d0c60d0e",
   "metadata": {},
   "outputs": [
    {
     "data": {
      "text/plain": [
       "'../Data/Rijksmuseum/xml2\\\\0000001_SK-A-4878.xml'"
      ]
     },
     "execution_count": 4,
     "metadata": {},
     "output_type": "execute_result"
    }
   ],
   "source": [
    "xml_files[0]"
   ]
  },
  {
   "cell_type": "code",
   "execution_count": 5,
   "id": "d87fb11f",
   "metadata": {},
   "outputs": [],
   "source": [
    "with open(xml_files[0], 'r', encoding=\"utf8\") as f:\n",
    "    data = f.read()\n",
    "    \n",
    "bs_data = BeautifulSoup(data, \"xml\")"
   ]
  },
  {
   "cell_type": "code",
   "execution_count": 6,
   "id": "099b0b13",
   "metadata": {
    "scrolled": true
   },
   "outputs": [
    {
     "name": "stdout",
     "output_type": "stream",
     "text": [
      "<?xml version=\"1.0\" encoding=\"utf-8\"?>\n",
      "<record>\n",
      " <header>\n",
      "  <identifier>\n",
      "   oai:rijksmuseum.nl/collection:SK-A-4878\n",
      "  </identifier>\n",
      "  <datestamp>\n",
      "   2012-10-26T09:44:37Z\n",
      "  </datestamp>\n",
      " </header>\n",
      " <metadata>\n",
      "  <dc>\n",
      "   <format>\n",
      "    https://www.rijksmuseum.nl/assetimage2.jsp?id=SK-A-4878\n",
      "   </format>\n",
      "   <format>\n",
      "    https://www.rijksmuseum.nl/nl/collectie/SK-A-4878\n",
      "   </format>\n",
      "   <identifier>\n",
      "    SK-A-4878\n",
      "   </identifier>\n",
      "   <identifier>\n",
      "    RM0001.COLLECT.2\n",
      "   </identifier>\n",
      "   <language>\n",
      "    Dutch\n",
      "   </language>\n",
      "   <publisher>\n",
      "    Rijksmuseum\n",
      "   </publisher>\n",
      "   <rights>\n",
      "    http://creativecommons.org/publicdomain/zero/1.0/\n",
      "   </rights>\n",
      "   <date>\n",
      "    1644 -  1648\n",
      "   </date>\n",
      "   <description>\n",
      "    Een jonge vrouw haar handen warmend boven gloeiende kolen in een aardewerken vuurtest. Waarschijnlijk een allegorie op het seizoen Winter. De vrouw draagt een witte muts, oorbellen en een parelsnoer.\n",
      "   </description>\n",
      "   <format>\n",
      "    hoogte 97 CMcmcm\n",
      "   </format>\n",
      "   <format>\n",
      "    breedte 81 CMcmcm\n",
      "   </format>\n",
      "   <format>\n",
      "    diepte 8 CMcmcm\n",
      "   </format>\n",
      "   <format>\n",
      "    materiaal: olieverf\n",
      "   </format>\n",
      "   <format>\n",
      "    materiaal: doek\n",
      "   </format>\n",
      "   <creator>\n",
      "    schilder: Everdingen, Caesar Boëtius van\n",
      "   </creator>\n",
      "   <coverage>\n",
      "    Nederland\n",
      "   </coverage>\n",
      "   <type>\n",
      "    schilderij\n",
      "   </type>\n",
      "   <title>\n",
      "    Een jonge vrouw haar handen warmend boven een vuurtest, mogelijk een allegorie op de Winter\n",
      "   </title>\n",
      "   <coverage>\n",
      "    tweede kwart 17e eeuw\n",
      "   </coverage>\n",
      "   <subject>\n",
      "    Iconclasscode: 41B211\n",
      "   </subject>\n",
      "   <subject>\n",
      "    Iconclasscode: 23D41\n",
      "   </subject>\n",
      "   <contributor>\n",
      "    Aankoop met steun van de Vereniging Rembrandt, mede dankzij het Prins Bernhard Fonds\n",
      "   </contributor>\n",
      "  </dc>\n",
      " </metadata>\n",
      "</record>\n"
     ]
    }
   ],
   "source": [
    "print(bs_data.prettify())\n",
    "# bs_data"
   ]
  },
  {
   "cell_type": "code",
   "execution_count": 7,
   "id": "2b7f8aeb",
   "metadata": {},
   "outputs": [
    {
     "name": "stdout",
     "output_type": "stream",
     "text": [
      "<metadata>\n",
      "<dc>\n",
      "<format>https://www.rijksmuseum.nl/assetimage2.jsp?id=SK-A-4878</format>\n",
      "<format>https://www.rijksmuseum.nl/nl/collectie/SK-A-4878</format>\n",
      "<identifier>SK-A-4878</identifier>\n",
      "<identifier>RM0001.COLLECT.2</identifier>\n",
      "<language>Dutch</language>\n",
      "<publisher>Rijksmuseum</publisher>\n",
      "<rights>http://creativecommons.org/publicdomain/zero/1.0/</rights>\n",
      "<date>1644 -  1648</date>\n",
      "<description>Een jonge vrouw haar handen warmend boven gloeiende kolen in een aardewerken vuurtest. Waarschijnlijk een allegorie op het seizoen Winter. De vrouw draagt een witte muts, oorbellen en een parelsnoer.</description>\n",
      "<format>hoogte 97 CMcmcm</format>\n",
      "<format>breedte 81 CMcmcm</format>\n",
      "<format>diepte 8 CMcmcm</format>\n",
      "<format>materiaal: olieverf</format>\n",
      "<format>materiaal: doek</format>\n",
      "<creator> schilder: Everdingen, Caesar Boëtius van</creator>\n",
      "<coverage>Nederland</coverage>\n",
      "<type>schilderij</type>\n",
      "<title>Een jonge vrouw haar handen warmend boven een vuurtest, mogelijk een allegorie op de Winter</title>\n",
      "<coverage>tweede kwart 17e eeuw</coverage>\n",
      "<subject>Iconclasscode: 41B211</subject>\n",
      "<subject>Iconclasscode: 23D41</subject>\n",
      "<contributor>Aankoop met steun van de Vereniging Rembrandt, mede dankzij het Prins Bernhard Fonds</contributor>\n",
      "</dc>\n",
      "</metadata>\n"
     ]
    }
   ],
   "source": [
    "# bs_data.find('metadata').find('identifier')\n",
    "unordered_list = bs_data.find(\"metadata\")\n",
    "print(unordered_list)"
   ]
  },
  {
   "cell_type": "code",
   "execution_count": 31,
   "id": "b8f4f914",
   "metadata": {},
   "outputs": [],
   "source": [
    "def remove_tags(bs_data, tag):\n",
    "    node = bs_data.find('metadata').find(tag)\n",
    "    if node:\n",
    "        string = ''.join(node.stripped_strings)\n",
    "    else:\n",
    "        string = ':'\n",
    "#     string = string.split(':')[1]\n",
    "    return string"
   ]
  },
  {
   "cell_type": "code",
   "execution_count": 35,
   "id": "93390cd1",
   "metadata": {},
   "outputs": [],
   "source": [
    "def remove_mats(bs_data, tag):\n",
    "    mats = []\n",
    "    nodes = bs_data.find('metadata').find_all(tag)\n",
    "    for node in nodes:\n",
    "        tag = ''.join(node.stripped_strings)\n",
    "#         print(tag)\n",
    "        if 'materiaal' in tag:\n",
    "            mats.append(tag.split(':')[-1][1:])\n",
    "\n",
    "    return mats"
   ]
  },
  {
   "cell_type": "code",
   "execution_count": 36,
   "id": "5771111d",
   "metadata": {},
   "outputs": [
    {
     "data": {
      "text/plain": [
       "'Everdingen, Caesar Boëtius van'"
      ]
     },
     "execution_count": 36,
     "metadata": {},
     "output_type": "execute_result"
    }
   ],
   "source": [
    "creator = remove_tags(bs_data, 'creator').split(':')[1][1:]\n",
    "creator"
   ]
  },
  {
   "cell_type": "code",
   "execution_count": 37,
   "id": "ef3e41e7",
   "metadata": {},
   "outputs": [
    {
     "data": {
      "text/plain": [
       "['olieverf', 'doek']"
      ]
     },
     "execution_count": 37,
     "metadata": {},
     "output_type": "execute_result"
    }
   ],
   "source": [
    "identifier = remove_mats(bs_data, 'format')\n",
    "identifier"
   ]
  },
  {
   "cell_type": "code",
   "execution_count": 44,
   "id": "17f32e16",
   "metadata": {},
   "outputs": [
    {
     "data": {
      "text/plain": [
       "'1648'"
      ]
     },
     "execution_count": 44,
     "metadata": {},
     "output_type": "execute_result"
    }
   ],
   "source": [
    "identifier = remove_tags(bs_data, 'date')[-4:]\n",
    "identifier"
   ]
  },
  {
   "cell_type": "code",
   "execution_count": 54,
   "id": "d919de5f",
   "metadata": {},
   "outputs": [],
   "source": [
    "def create_df(xml_files):\n",
    "    tags = []\n",
    "    all_items = []\n",
    "    \n",
    "    for i in range(len(xml_files)):\n",
    "        if i % 4000 == 0:\n",
    "            print(str(round(i/len(xml_files)*100, 3)) + '%')\n",
    "            \n",
    "        with open(xml_files[i], 'r', encoding=\"utf8\") as f:\n",
    "            data = f.read()\n",
    "            \n",
    "        bs_data = BeautifulSoup(data, \"xml\")\n",
    "        \n",
    "        identifier = remove_tags(bs_data, 'identifier')\n",
    "        creator = remove_tags(bs_data, 'creator').split(':')[1][1:]\n",
    "        title = remove_tags(bs_data, 'title')\n",
    "        date = remove_tags(bs_data, 'date')\n",
    "        date = remove_tags(bs_data, 'date')[-4:]\n",
    "        art_type = remove_tags(bs_data, 'type')\n",
    "        materials = remove_mats(bs_data, 'format')\n",
    "#         creators[identifier] = creator\n",
    "        tags = [identifier, creator, title, date, art_type, materials]\n",
    "        all_items.append(tags)\n",
    "        \n",
    "    df = pd.DataFrame(all_items, columns=['Identifier', 'Creator', 'Title', 'Date', 'Type', 'Materials'])\n",
    "#     return pd.DataFrame.from_dict(creators)\n",
    "    return df\n",
    "        "
   ]
  },
  {
   "cell_type": "code",
   "execution_count": 55,
   "id": "762eb92e",
   "metadata": {
    "scrolled": true
   },
   "outputs": [
    {
     "name": "stdout",
     "output_type": "stream",
     "text": [
      "0.0%\n",
      "3.57%\n",
      "7.14%\n",
      "10.711%\n",
      "14.281%\n",
      "17.851%\n",
      "21.421%\n",
      "24.991%\n",
      "28.561%\n",
      "32.132%\n",
      "35.702%\n",
      "39.272%\n",
      "42.842%\n",
      "46.412%\n",
      "49.983%\n",
      "53.553%\n",
      "57.123%\n",
      "60.693%\n",
      "64.263%\n",
      "67.834%\n",
      "71.404%\n",
      "74.974%\n",
      "78.544%\n",
      "82.114%\n",
      "85.684%\n",
      "89.255%\n",
      "92.825%\n",
      "96.395%\n",
      "99.965%\n"
     ]
    }
   ],
   "source": [
    "creators = create_df(xml_files)"
   ]
  },
  {
   "cell_type": "code",
   "execution_count": 56,
   "id": "3a3ff283",
   "metadata": {
    "scrolled": false
   },
   "outputs": [
    {
     "data": {
      "text/html": [
       "<div>\n",
       "<style scoped>\n",
       "    .dataframe tbody tr th:only-of-type {\n",
       "        vertical-align: middle;\n",
       "    }\n",
       "\n",
       "    .dataframe tbody tr th {\n",
       "        vertical-align: top;\n",
       "    }\n",
       "\n",
       "    .dataframe thead th {\n",
       "        text-align: right;\n",
       "    }\n",
       "</style>\n",
       "<table border=\"1\" class=\"dataframe\">\n",
       "  <thead>\n",
       "    <tr style=\"text-align: right;\">\n",
       "      <th></th>\n",
       "      <th>Identifier</th>\n",
       "      <th>Creator</th>\n",
       "      <th>Title</th>\n",
       "      <th>Date</th>\n",
       "      <th>Type</th>\n",
       "      <th>Materials</th>\n",
       "    </tr>\n",
       "  </thead>\n",
       "  <tbody>\n",
       "    <tr>\n",
       "      <th>0</th>\n",
       "      <td>SK-A-4878</td>\n",
       "      <td>Everdingen, Caesar Boëtius van</td>\n",
       "      <td>Een jonge vrouw haar handen warmend boven een ...</td>\n",
       "      <td>1648</td>\n",
       "      <td>schilderij</td>\n",
       "      <td>[olieverf, doek]</td>\n",
       "    </tr>\n",
       "    <tr>\n",
       "      <th>1</th>\n",
       "      <td>SK-A-4877</td>\n",
       "      <td>Maris, Matthijs</td>\n",
       "      <td>Portret van Jacob Maris</td>\n",
       "      <td>1857</td>\n",
       "      <td>schilderij</td>\n",
       "      <td>[papier, olieverf, hout]</td>\n",
       "    </tr>\n",
       "    <tr>\n",
       "      <th>2</th>\n",
       "      <td>SK-A-4881</td>\n",
       "      <td>Maes, Nicolaes</td>\n",
       "      <td>Portret van een jonge man, waarschijnlijk Simo...</td>\n",
       "      <td>1685</td>\n",
       "      <td>schilderij</td>\n",
       "      <td>[olieverf, doek]</td>\n",
       "    </tr>\n",
       "    <tr>\n",
       "      <th>3</th>\n",
       "      <td>RP-P-1992-35</td>\n",
       "      <td>Coornhert, Dirck Volckertsz</td>\n",
       "      <td>Keizer Karel V omgeven door zijn overwonnen te...</td>\n",
       "      <td>1555</td>\n",
       "      <td>prent</td>\n",
       "      <td>[papier, dekverf]</td>\n",
       "    </tr>\n",
       "    <tr>\n",
       "      <th>4</th>\n",
       "      <td>RP-P-1992-36</td>\n",
       "      <td>Coornhert, Dirck Volckertsz</td>\n",
       "      <td>Gevangename van Frans I tijdens de slag van Pa...</td>\n",
       "      <td>1556</td>\n",
       "      <td>prent</td>\n",
       "      <td>[papier, dekverf]</td>\n",
       "    </tr>\n",
       "    <tr>\n",
       "      <th>...</th>\n",
       "      <td>...</td>\n",
       "      <td>...</td>\n",
       "      <td>...</td>\n",
       "      <td>...</td>\n",
       "      <td>...</td>\n",
       "      <td>...</td>\n",
       "    </tr>\n",
       "    <tr>\n",
       "      <th>112034</th>\n",
       "      <td>AK-RBK-14763-A-2</td>\n",
       "      <td>anoniem</td>\n",
       "      <td>Schotel beschilderd met lotusranken en een kra...</td>\n",
       "      <td>1725</td>\n",
       "      <td>schotel</td>\n",
       "      <td>[porselein, glazuur]</td>\n",
       "    </tr>\n",
       "    <tr>\n",
       "      <th>112035</th>\n",
       "      <td>RP-P-OB-86.512</td>\n",
       "      <td>Bos, Maarten</td>\n",
       "      <td>Beschieting van het Nederlandse oorlogsschip M...</td>\n",
       "      <td>1863</td>\n",
       "      <td>prent</td>\n",
       "      <td>[papier]</td>\n",
       "    </tr>\n",
       "    <tr>\n",
       "      <th>112036</th>\n",
       "      <td>NG-NM-7753</td>\n",
       "      <td>anoniem</td>\n",
       "      <td>Inktpot met deksel</td>\n",
       "      <td>1596</td>\n",
       "      <td>inktpot</td>\n",
       "      <td>[lood (materiaal)]</td>\n",
       "    </tr>\n",
       "    <tr>\n",
       "      <th>112037</th>\n",
       "      <td>NG-NM-8358</td>\n",
       "      <td>Coenraads, Jacobus (Senior)</td>\n",
       "      <td>Hartsvanger van Schout bij nacht J.A. Zoutman</td>\n",
       "      <td>1790</td>\n",
       "      <td>hartsvanger</td>\n",
       "      <td>[ijzer, been, zilver]</td>\n",
       "    </tr>\n",
       "    <tr>\n",
       "      <th>112038</th>\n",
       "      <td>NG-KOG-2192</td>\n",
       "      <td>George</td>\n",
       "      <td>Zilveren stuivers uit 1808</td>\n",
       "      <td>1808</td>\n",
       "      <td>munt</td>\n",
       "      <td>[zilver]</td>\n",
       "    </tr>\n",
       "  </tbody>\n",
       "</table>\n",
       "<p>112039 rows × 6 columns</p>\n",
       "</div>"
      ],
      "text/plain": [
       "              Identifier                         Creator  \\\n",
       "0              SK-A-4878  Everdingen, Caesar Boëtius van   \n",
       "1              SK-A-4877                 Maris, Matthijs   \n",
       "2              SK-A-4881                  Maes, Nicolaes   \n",
       "3           RP-P-1992-35     Coornhert, Dirck Volckertsz   \n",
       "4           RP-P-1992-36     Coornhert, Dirck Volckertsz   \n",
       "...                  ...                             ...   \n",
       "112034  AK-RBK-14763-A-2                         anoniem   \n",
       "112035    RP-P-OB-86.512                    Bos, Maarten   \n",
       "112036        NG-NM-7753                         anoniem   \n",
       "112037        NG-NM-8358     Coenraads, Jacobus (Senior)   \n",
       "112038       NG-KOG-2192                          George   \n",
       "\n",
       "                                                    Title  Date         Type  \\\n",
       "0       Een jonge vrouw haar handen warmend boven een ...  1648   schilderij   \n",
       "1                                 Portret van Jacob Maris  1857   schilderij   \n",
       "2       Portret van een jonge man, waarschijnlijk Simo...  1685   schilderij   \n",
       "3       Keizer Karel V omgeven door zijn overwonnen te...  1555        prent   \n",
       "4       Gevangename van Frans I tijdens de slag van Pa...  1556        prent   \n",
       "...                                                   ...   ...          ...   \n",
       "112034  Schotel beschilderd met lotusranken en een kra...  1725      schotel   \n",
       "112035  Beschieting van het Nederlandse oorlogsschip M...  1863        prent   \n",
       "112036                                 Inktpot met deksel  1596      inktpot   \n",
       "112037      Hartsvanger van Schout bij nacht J.A. Zoutman  1790  hartsvanger   \n",
       "112038                         Zilveren stuivers uit 1808  1808         munt   \n",
       "\n",
       "                       Materials  \n",
       "0               [olieverf, doek]  \n",
       "1       [papier, olieverf, hout]  \n",
       "2               [olieverf, doek]  \n",
       "3              [papier, dekverf]  \n",
       "4              [papier, dekverf]  \n",
       "...                          ...  \n",
       "112034      [porselein, glazuur]  \n",
       "112035                  [papier]  \n",
       "112036        [lood (materiaal)]  \n",
       "112037     [ijzer, been, zilver]  \n",
       "112038                  [zilver]  \n",
       "\n",
       "[112039 rows x 6 columns]"
      ]
     },
     "execution_count": 56,
     "metadata": {},
     "output_type": "execute_result"
    }
   ],
   "source": [
    "creators"
   ]
  },
  {
   "cell_type": "code",
   "execution_count": 57,
   "id": "6f9b8ca9",
   "metadata": {},
   "outputs": [],
   "source": [
    "creators_test = creators"
   ]
  },
  {
   "cell_type": "code",
   "execution_count": 59,
   "id": "ae927f01",
   "metadata": {},
   "outputs": [
    {
     "data": {
      "text/plain": [
       "array(['1648', '1857', '1685', '1555', '1556', '1553', '1706', '1626',\n",
       "       '1589', '1610', '1220', '1799', '1724', ':', '1000', '1350',\n",
       "       '1810', '1774', '1826', '4-08', '1780', '1715', '1734', '1770',\n",
       "       '1746', '-200', '-800', '-250', '-100', ' 100', ' 300', '1100',\n",
       "       ' 906', ' 800', ' 750', ' 700', ' 500', ' 220', '1400', '1644',\n",
       "       '1279', ' 950', '1800', '1200', '1500', '1300', '1600', ' 200',\n",
       "       '1789', '1825', '1779', '1790', '1758', '1765', '1778', '1727',\n",
       "       '1802', '1829', '1750', '1713', '1718', '1796', '1806', '1811',\n",
       "       '1822', '1745', '1815', '1812', '1784', '1777', '1793', '1574',\n",
       "       '1620', '1570', '1550', '1699', ' 512', ' 525', ' 618', '1150',\n",
       "       '1250', '1850', '1900', '1650', '1700', '1875', '1725', '1830',\n",
       "       '1775', '1127', '1795', '1368', '1735', '1625', '1722', '1640',\n",
       "       '1720', '1645', '1660', '1808', '1803', '1599', '1586', '1755',\n",
       "       '1566', '1607', '1602', '1575', '1731', '1732', '1581', '1680',\n",
       "       '2-31', '1525', '1185', '1425', '1175', '1325', '1819', '1672',\n",
       "       '1824', '1840', '1835', '1613', '1647', '1742', '1759', '1771',\n",
       "       '1737', '1560', '1752', '1814', ' 907', '2000', '1590', '1772',\n",
       "       ' 900', ' 930', ' 850', '1450', ' 925', '1859', '1025', '1475',\n",
       "       '1736', '1580', '1521', ' 825', ' ca.', '1392', '1733', '1768',\n",
       "       '1740', '1703', ' 600', '1630', '1710', '1786', '1820', '1675',\n",
       "       '1670', '1689', '1760', '1776', '1738', '00 -', '1690', '1435',\n",
       "       '1702', '1751', '17 -', '1805', '1730', '1749', '1627', '1769',\n",
       "       '1721', '3-25', '1661', '1668', '1657', '1804', '1708', '1798',\n",
       "       '1-02', '1787', '2-04', '3-20', '1761', '1801', '1836', '1782',\n",
       "       '1821', '1809', '1813', '1608', '1638', '1818', '1693', '1635',\n",
       "       '1420', '1410', '1649', '1678', '1510', '1565', '1623', '1632',\n",
       "       '1615', '1609', '1841', '1578', '1535', '1667', '1686', '1598',\n",
       "       '1673', '1669', '1687', '1676', '1674', '1573', '1636', '1677',\n",
       "       '1639', '1719', '1684', '1683', '1753', '1663', '1502', '1651',\n",
       "       '1449', '1490', '1549', '1604', '1622', '1655', '1430', '44 -',\n",
       "       '1540', '1621', '1671', '1633', '1705', '3-16', '1845', '1557',\n",
       "       '1601', '1614', '1616', '1629', '1643', '1524', '1849', '1664',\n",
       "       '1656', '1837', '1828', '1817', '1682', '1530', '1861', '1665',\n",
       "       '1652', '1658', '1654', '1743', '1832', '1853', '1833', '1860',\n",
       "       '1485', '1605', '1653', '1704', '1646', '1539', '1868', '1659',\n",
       "       '1662', '1628', '1852', '1642', '1507', '1729', '1634', '1611',\n",
       "       '1827', '1631', '1848', '1846', '1785', '1887', '1880', '1545',\n",
       "       '1692', '1694', '1844', '1744', '1499', '1762', '1666', '1637',\n",
       "       '1-29', '0-02', '1688', '1838', '1862', '1867', '1709', '1858',\n",
       "       '1834', '1870', '1823', '1869', '1902', '1529', '1554', '1537',\n",
       "       '1520', '1452', '1460', '1505', '1679', '1816', '1839', '1617',\n",
       "       '1641', '1567', '1585', '1594', '1791', '1424', '1603', '1597',\n",
       "       '1582', '1624', '1717', '1763', '1723', '1788', '6-16', '5-26',\n",
       "       '1552', '1701', '1863', '1856', '1872', '1854', '1440', '1455',\n",
       "       '5-14', '1773', '1707', '1697', '1866', '1592', '1515', '1807',\n",
       "       '1756', '1480', '1470', '1698', '1583', '1864', '1865', '1794',\n",
       "       '1572', '6-05', '7-24', '1681', '1728', '1523', '1843', '1619',\n",
       "       '1497', '1711', '1757', '1618', '1886', '1894', '1897', '1923',\n",
       "       '1903', '1896', '1901', '1691', '1532', '1528', '1885', '1847',\n",
       "       '8-28', '1612', '0-07', '1726', '1714', '1888', '1855', '1563',\n",
       "       '3-01', '1584', '1766', '1519', '1748', '1895', '1495', '73 -',\n",
       "       '1764', '1747', '1716', '1754', '1781', '1695', '8-07', '1881',\n",
       "       '1767', '1878', '1884', '1593', '1542', '1569', '1907', '1606',\n",
       "       '1548', '1831', '1562', '1783', '1517', '1518', '1596', '1526',\n",
       "       '1533', '8-23', '1712', '9-30', '1474', '1399', '1889', '1390',\n",
       "       '1415', '1360', '1439', '1447', '1899', '1-15', '1564', '1898',\n",
       "       '1906', '1531', '1871', '8-10', '1365', '1879', '1910', '1538',\n",
       "       '1876', '1504', '1355', '1-05', '1922', '1487', '2-22', '1290',\n",
       "       '1739', '1851', '3-03', '1950', '6-10', '1905', '1920', '1588',\n",
       "       '1741', '1407', '0-25', '7-16', '5-20', '1595', '1527', '1481',\n",
       "       '1506', '1-10', '1576', '1577', '1551', '1559', '84 -', '5-02',\n",
       "       '2-11', '1696', '9-23', '1230', '1330', '1170', '1225', '1568',\n",
       "       '1285', '1544', '1892', '1911', '6-21', '6-07', '2-09', '9-05',\n",
       "       '9-19', '1-12', '1797', '1904', '1792', '1376', '6-06', '1362',\n",
       "       '1547', '1512', '1587', '1310', '1558', '1541', '1513', '5-04',\n",
       "       '2-14', '1378', '7-06', '1132', '1380', '1476', '1477', '1511',\n",
       "       '1125', '1423', '1473', '1493', '1469', '1591', '1509', '1260',\n",
       "       '1280', '1340', '1375', '1180', '0-13', '7-10', '5-27', '3-19',\n",
       "       '6-02', '6-18', '0-01', '1-01', '0-10', '4-19', '2-27', '1478',\n",
       "       '1448', '1536', '1561', '1579', '1516', '1-11', '1543', '5-22',\n",
       "       '1503', '8-05', '7-29', '8-12', '7-14', '8-20', '8-02', '1498',\n",
       "       '2-30', '9-09', '1571', '9-21', '1534', '8-22', '5-16', '9-06',\n",
       "       '7-26', '7-07', '0-09', '1466', '1468', '1467', '1501', '1491',\n",
       "       '1482', '1546', '1488', '1522', '1508', '1514', '2-06', '6432',\n",
       "       '1496', '9-17', '0-14', '1913', '1492', '9-11', '9-18', '2-16',\n",
       "       '4-09', '1486', '1484', '1-07', '8-19', '5-30', '4-11', '0-03',\n",
       "       '7-28', '0-20', '9-14', '8-16', '3-08', '5-06', '0-15', '7-01',\n",
       "       '6-20', '1-13', '4-02', '2-20', '6-01', '8-15', '2-01', '7-25',\n",
       "       '8340', '4-05', '1199', '1099', ' 899', '1494', '8-14', '0-16',\n",
       "       '4-21', '9-01', '6-04', '7-03', '5-15', '8-13', '1-04', '7-17',\n",
       "       '8-08', '0-23', '8-17', '7-15', '7-13', '9-10', '8-06', '8-03',\n",
       "       '1-09', '9-02', '1874', '7-18', '2-23', '8-01', '6-24', '7-27',\n",
       "       '4-30', '4-25', '1919', '1265', '1267', '1311', '8-09', '5-29',\n",
       "       '6-08', '6-15', '6-19', '7-23', '7-30', '0-17', '5-10', '0-21',\n",
       "       '4-23', '8-30', '4-12', '5-25', '9-27', '7-21', '5-21', '8-27',\n",
       "       '9-04', '8-18', '8-25', '3-13', '0-04', '1-22', '1-06', '4-16',\n",
       "       '8-29', '2-25', '5-31', '7-09', '2-12', '6-13', '9-20', '6-23',\n",
       "       '6-09', '7-31', '6-30', '9-12', '4-10', '04 -', '1927', '7-19',\n",
       "       '7-12', '2-28', '0-29', '4-29', '3-09', '0-28', '1356', '7-04',\n",
       "       '2-07', '5-19', '1936', '98 -', '13 -', '25 -', '3-15', '0-06',\n",
       "       '70 -', '4-15', ' 157', '8-26', '1842', '1-28', '5-13', '2-18',\n",
       "       '0-08', '4-22', '2-13', '6-27', '4-24', '5-05', '2-29', '9-22',\n",
       "       '3-05', '1-26', '1-25', '8-24', '72 -', '89 -', '02 -', '83 -',\n",
       "       '90 -', '1-20', '2-03', '4-20', '8-31', '9-28', '1890', '0-26',\n",
       "       '1-03', '2-17', '2-26', '1-08', '3-23', '8-04', '5-01', '1-14',\n",
       "       '1-17', '3-29', '6-26', '2-10', '2-08', '9-26', '0-30', '9-15',\n",
       "       '5-03', '5-08', '9-08', '5-12', '1-24', '1-27', '3-10', '5-11',\n",
       "       '3-12', '5-07', '3-06', '5-28', '5-18', '7-05', '9-24', '1-30',\n",
       "       '4-04', '3-07', '3-04', '8-11', '9-07', '0-05', '0-11', '0-12',\n",
       "       '2-02', '2-05', '3-02', '3-11', '4-03', '4-06', '4-07', '5-09',\n",
       "       '6-03', '8-21', '7-20', '6-12', '6-25', '2-24', '7-02', '6253',\n",
       "       '2-15', '1-18', '86 -', '7-11', '9-03', '1-19', '4-01', '1954',\n",
       "       '0-24', '6-28', '3-31', '3-26', '-900', 'a. 0', '1925', '1-23',\n",
       "       '1299', '7-08', '1436', '85 -', '5-17', '6-22', '3-18', '9-29',\n",
       "       '2-19', '7-22', '2-21', '6-14', '3-27', '0-27', '1-16', '9-13',\n",
       "       '1873', '1877', '4-17', '1346', '4-28', '1916', '1893', '1882',\n",
       "       '60 -', '0-19', '07 -', '1263', '1270', '5-24', '94 -', '4-14',\n",
       "       '1296', '1915', '1930', ' 799', '9-16', '1914', '1908', '1891',\n",
       "       '50 -', '6-29', '9-25', '08 -', '1249', '11 -', '1926', '1928',\n",
       "       '1-31', '1-21', '59 -', 'fore', '0-18', '0-22', '96 -', '1924',\n",
       "       '87 -', '18 -', '8790', '3-24', ' 183', '3-28', '3-21', '4-27',\n",
       "       '4-13', '1998', '1929', '1964', '1953', '1939', '19 -', '65 -',\n",
       "       '6-11'], dtype=object)"
      ]
     },
     "execution_count": 59,
     "metadata": {},
     "output_type": "execute_result"
    }
   ],
   "source": [
    "creators_test['Date'].unique()"
   ]
  },
  {
   "cell_type": "code",
   "execution_count": 60,
   "id": "217af785",
   "metadata": {},
   "outputs": [],
   "source": [
    "creators.to_csv('xml_files_full.csv', index=False)"
   ]
  },
  {
   "cell_type": "code",
   "execution_count": null,
   "id": "fc407cc5",
   "metadata": {},
   "outputs": [],
   "source": []
  },
  {
   "cell_type": "code",
   "execution_count": null,
   "id": "bd74fe04",
   "metadata": {},
   "outputs": [],
   "source": []
  },
  {
   "cell_type": "code",
   "execution_count": null,
   "id": "7cce9612",
   "metadata": {},
   "outputs": [],
   "source": []
  },
  {
   "cell_type": "code",
   "execution_count": 12,
   "id": "d8b99100",
   "metadata": {},
   "outputs": [
    {
     "data": {
      "text/html": [
       "<div>\n",
       "<style scoped>\n",
       "    .dataframe tbody tr th:only-of-type {\n",
       "        vertical-align: middle;\n",
       "    }\n",
       "\n",
       "    .dataframe tbody tr th {\n",
       "        vertical-align: top;\n",
       "    }\n",
       "\n",
       "    .dataframe thead th {\n",
       "        text-align: right;\n",
       "    }\n",
       "</style>\n",
       "<table border=\"1\" class=\"dataframe\">\n",
       "  <thead>\n",
       "    <tr style=\"text-align: right;\">\n",
       "      <th></th>\n",
       "      <th>Identifier</th>\n",
       "      <th>Creator</th>\n",
       "      <th>Title</th>\n",
       "      <th>Date</th>\n",
       "      <th>Type</th>\n",
       "    </tr>\n",
       "  </thead>\n",
       "  <tbody>\n",
       "    <tr>\n",
       "      <th>0</th>\n",
       "      <td>SK-A-4878</td>\n",
       "      <td>Everdingen, Caesar Boëtius van</td>\n",
       "      <td>Een jonge vrouw haar handen warmend boven een ...</td>\n",
       "      <td>1644 -  1648</td>\n",
       "      <td>schilderij</td>\n",
       "    </tr>\n",
       "    <tr>\n",
       "      <th>1</th>\n",
       "      <td>SK-A-4877</td>\n",
       "      <td>Maris, Matthijs</td>\n",
       "      <td>Portret van Jacob Maris</td>\n",
       "      <td>1857 -  1857</td>\n",
       "      <td>schilderij</td>\n",
       "    </tr>\n",
       "    <tr>\n",
       "      <th>2</th>\n",
       "      <td>SK-A-4881</td>\n",
       "      <td>Maes, Nicolaes</td>\n",
       "      <td>Portret van een jonge man, waarschijnlijk Simo...</td>\n",
       "      <td>1675 -  1685</td>\n",
       "      <td>schilderij</td>\n",
       "    </tr>\n",
       "    <tr>\n",
       "      <th>3</th>\n",
       "      <td>RP-P-1992-35</td>\n",
       "      <td>Coornhert, Dirck Volckertsz</td>\n",
       "      <td>Keizer Karel V omgeven door zijn overwonnen te...</td>\n",
       "      <td>1555 -  1555</td>\n",
       "      <td>prent</td>\n",
       "    </tr>\n",
       "    <tr>\n",
       "      <th>4</th>\n",
       "      <td>RP-P-1992-36</td>\n",
       "      <td>Coornhert, Dirck Volckertsz</td>\n",
       "      <td>Gevangename van Frans I tijdens de slag van Pa...</td>\n",
       "      <td>1555 -  1556</td>\n",
       "      <td>prent</td>\n",
       "    </tr>\n",
       "    <tr>\n",
       "      <th>...</th>\n",
       "      <td>...</td>\n",
       "      <td>...</td>\n",
       "      <td>...</td>\n",
       "      <td>...</td>\n",
       "      <td>...</td>\n",
       "    </tr>\n",
       "    <tr>\n",
       "      <th>112034</th>\n",
       "      <td>AK-RBK-14763-A-2</td>\n",
       "      <td>anoniem</td>\n",
       "      <td>Schotel beschilderd met lotusranken en een kra...</td>\n",
       "      <td>ca. 1700 - ca. 1725</td>\n",
       "      <td>schotel</td>\n",
       "    </tr>\n",
       "    <tr>\n",
       "      <th>112035</th>\n",
       "      <td>RP-P-OB-86.512</td>\n",
       "      <td>Bos, Maarten</td>\n",
       "      <td>Beschieting van het Nederlandse oorlogsschip M...</td>\n",
       "      <td>1863 -  1863</td>\n",
       "      <td>prent</td>\n",
       "    </tr>\n",
       "    <tr>\n",
       "      <th>112036</th>\n",
       "      <td>NG-NM-7753</td>\n",
       "      <td>anoniem</td>\n",
       "      <td>Inktpot met deksel</td>\n",
       "      <td>ca. 1590 - ca. 1596</td>\n",
       "      <td>inktpot</td>\n",
       "    </tr>\n",
       "    <tr>\n",
       "      <th>112037</th>\n",
       "      <td>NG-NM-8358</td>\n",
       "      <td>Coenraads, Jacobus (Senior)</td>\n",
       "      <td>Hartsvanger van Schout bij nacht J.A. Zoutman</td>\n",
       "      <td>1774 -  1790</td>\n",
       "      <td>hartsvanger</td>\n",
       "    </tr>\n",
       "    <tr>\n",
       "      <th>112038</th>\n",
       "      <td>NG-KOG-2192</td>\n",
       "      <td>George</td>\n",
       "      <td>Zilveren stuivers uit 1808</td>\n",
       "      <td>1808 -  1808</td>\n",
       "      <td>munt</td>\n",
       "    </tr>\n",
       "  </tbody>\n",
       "</table>\n",
       "<p>112039 rows × 5 columns</p>\n",
       "</div>"
      ],
      "text/plain": [
       "              Identifier                          Creator  \\\n",
       "0              SK-A-4878   Everdingen, Caesar Boëtius van   \n",
       "1              SK-A-4877                  Maris, Matthijs   \n",
       "2              SK-A-4881                   Maes, Nicolaes   \n",
       "3           RP-P-1992-35      Coornhert, Dirck Volckertsz   \n",
       "4           RP-P-1992-36      Coornhert, Dirck Volckertsz   \n",
       "...                  ...                              ...   \n",
       "112034  AK-RBK-14763-A-2                          anoniem   \n",
       "112035    RP-P-OB-86.512                     Bos, Maarten   \n",
       "112036        NG-NM-7753                          anoniem   \n",
       "112037        NG-NM-8358      Coenraads, Jacobus (Senior)   \n",
       "112038       NG-KOG-2192                           George   \n",
       "\n",
       "                                                    Title  \\\n",
       "0       Een jonge vrouw haar handen warmend boven een ...   \n",
       "1                                 Portret van Jacob Maris   \n",
       "2       Portret van een jonge man, waarschijnlijk Simo...   \n",
       "3       Keizer Karel V omgeven door zijn overwonnen te...   \n",
       "4       Gevangename van Frans I tijdens de slag van Pa...   \n",
       "...                                                   ...   \n",
       "112034  Schotel beschilderd met lotusranken en een kra...   \n",
       "112035  Beschieting van het Nederlandse oorlogsschip M...   \n",
       "112036                                 Inktpot met deksel   \n",
       "112037      Hartsvanger van Schout bij nacht J.A. Zoutman   \n",
       "112038                         Zilveren stuivers uit 1808   \n",
       "\n",
       "                       Date         Type  \n",
       "0              1644 -  1648   schilderij  \n",
       "1              1857 -  1857   schilderij  \n",
       "2              1675 -  1685   schilderij  \n",
       "3              1555 -  1555        prent  \n",
       "4              1555 -  1556        prent  \n",
       "...                     ...          ...  \n",
       "112034  ca. 1700 - ca. 1725      schotel  \n",
       "112035         1863 -  1863        prent  \n",
       "112036  ca. 1590 - ca. 1596      inktpot  \n",
       "112037         1774 -  1790  hartsvanger  \n",
       "112038         1808 -  1808         munt  \n",
       "\n",
       "[112039 rows x 5 columns]"
      ]
     },
     "execution_count": 12,
     "metadata": {},
     "output_type": "execute_result"
    }
   ],
   "source": [
    "# creators.to_csv('xml_files.csv', index=False)\n",
    "# creators = pd.read_csv('../Data/Rijksmuseum/xml_files.csv')\n",
    "creators = pd.read_csv('D:/MSc scriptie/Data/Rijksmuseum/xml_files.csv')\n",
    "creators"
   ]
  },
  {
   "cell_type": "code",
   "execution_count": 39,
   "id": "385dd541",
   "metadata": {},
   "outputs": [
    {
     "name": "stdout",
     "output_type": "stream",
     "text": [
      "<class 'pandas.core.frame.DataFrame'>\n",
      "RangeIndex: 112039 entries, 0 to 112038\n",
      "Data columns (total 5 columns):\n",
      " #   Column      Non-Null Count   Dtype \n",
      "---  ------      --------------   ----- \n",
      " 0   Identifier  112039 non-null  object\n",
      " 1   Creator     111186 non-null  object\n",
      " 2   Title       112017 non-null  object\n",
      " 3   Date        112039 non-null  object\n",
      " 4   Type        112012 non-null  object\n",
      "dtypes: object(5)\n",
      "memory usage: 4.3+ MB\n"
     ]
    }
   ],
   "source": [
    "creators.info()"
   ]
  },
  {
   "cell_type": "code",
   "execution_count": 26,
   "id": "edd3910e",
   "metadata": {},
   "outputs": [
    {
     "data": {
      "text/html": [
       "<div>\n",
       "<style scoped>\n",
       "    .dataframe tbody tr th:only-of-type {\n",
       "        vertical-align: middle;\n",
       "    }\n",
       "\n",
       "    .dataframe tbody tr th {\n",
       "        vertical-align: top;\n",
       "    }\n",
       "\n",
       "    .dataframe thead th {\n",
       "        text-align: right;\n",
       "    }\n",
       "</style>\n",
       "<table border=\"1\" class=\"dataframe\">\n",
       "  <thead>\n",
       "    <tr style=\"text-align: right;\">\n",
       "      <th></th>\n",
       "      <th>Identifier</th>\n",
       "      <th>Creator</th>\n",
       "      <th>Title</th>\n",
       "      <th>Date</th>\n",
       "      <th>Type</th>\n",
       "    </tr>\n",
       "  </thead>\n",
       "  <tbody>\n",
       "    <tr>\n",
       "      <th>19772</th>\n",
       "      <td>RP-P-OB-20.863</td>\n",
       "      <td>Callot, Jacques</td>\n",
       "      <td>Feest te Florence: praalwagen van Atlas en de zon</td>\n",
       "      <td>1616 -  1616</td>\n",
       "      <td>prent</td>\n",
       "    </tr>\n",
       "  </tbody>\n",
       "</table>\n",
       "</div>"
      ],
      "text/plain": [
       "           Identifier           Creator  \\\n",
       "19772  RP-P-OB-20.863   Callot, Jacques   \n",
       "\n",
       "                                                   Title          Date   Type  \n",
       "19772  Feest te Florence: praalwagen van Atlas en de zon  1616 -  1616  prent  "
      ]
     },
     "execution_count": 26,
     "metadata": {},
     "output_type": "execute_result"
    }
   ],
   "source": [
    "creators[creators['Identifier'].str.contains('RP-P-OB-20.863')]"
   ]
  },
  {
   "cell_type": "code",
   "execution_count": 14,
   "id": "4ed4627b",
   "metadata": {
    "scrolled": false
   },
   "outputs": [
    {
     "data": {
      "text/html": [
       "<div>\n",
       "<style scoped>\n",
       "    .dataframe tbody tr th:only-of-type {\n",
       "        vertical-align: middle;\n",
       "    }\n",
       "\n",
       "    .dataframe tbody tr th {\n",
       "        vertical-align: top;\n",
       "    }\n",
       "\n",
       "    .dataframe thead th {\n",
       "        text-align: right;\n",
       "    }\n",
       "</style>\n",
       "<table border=\"1\" class=\"dataframe\">\n",
       "  <thead>\n",
       "    <tr style=\"text-align: right;\">\n",
       "      <th></th>\n",
       "      <th>Identifier</th>\n",
       "      <th>Creator</th>\n",
       "      <th>Title</th>\n",
       "      <th>Date</th>\n",
       "      <th>Type</th>\n",
       "    </tr>\n",
       "  </thead>\n",
       "  <tbody>\n",
       "    <tr>\n",
       "      <th>0</th>\n",
       "      <td>SK-A-4878</td>\n",
       "      <td>Everdingen, Caesar Boëtius van</td>\n",
       "      <td>Een jonge vrouw haar handen warmend boven een ...</td>\n",
       "      <td>1644 -  1648</td>\n",
       "      <td>schilderij</td>\n",
       "    </tr>\n",
       "    <tr>\n",
       "      <th>1</th>\n",
       "      <td>SK-A-4877</td>\n",
       "      <td>Maris, Matthijs</td>\n",
       "      <td>Portret van Jacob Maris</td>\n",
       "      <td>1857 -  1857</td>\n",
       "      <td>schilderij</td>\n",
       "    </tr>\n",
       "    <tr>\n",
       "      <th>2</th>\n",
       "      <td>SK-A-4881</td>\n",
       "      <td>Maes, Nicolaes</td>\n",
       "      <td>Portret van een jonge man, waarschijnlijk Simo...</td>\n",
       "      <td>1675 -  1685</td>\n",
       "      <td>schilderij</td>\n",
       "    </tr>\n",
       "    <tr>\n",
       "      <th>3</th>\n",
       "      <td>RP-P-1992-35</td>\n",
       "      <td>Coornhert, Dirck Volckertsz</td>\n",
       "      <td>Keizer Karel V omgeven door zijn overwonnen te...</td>\n",
       "      <td>1555 -  1555</td>\n",
       "      <td>prent</td>\n",
       "    </tr>\n",
       "    <tr>\n",
       "      <th>4</th>\n",
       "      <td>RP-P-1992-36</td>\n",
       "      <td>Coornhert, Dirck Volckertsz</td>\n",
       "      <td>Gevangename van Frans I tijdens de slag van Pa...</td>\n",
       "      <td>1555 -  1556</td>\n",
       "      <td>prent</td>\n",
       "    </tr>\n",
       "    <tr>\n",
       "      <th>...</th>\n",
       "      <td>...</td>\n",
       "      <td>...</td>\n",
       "      <td>...</td>\n",
       "      <td>...</td>\n",
       "      <td>...</td>\n",
       "    </tr>\n",
       "    <tr>\n",
       "      <th>112004</th>\n",
       "      <td>RP-P-2011-173-1</td>\n",
       "      <td>Fellmann, M.</td>\n",
       "      <td>Apostel Jacobus Maior, allegorie op tabak</td>\n",
       "      <td>ca. 1800 - ca. 1900</td>\n",
       "      <td>prent</td>\n",
       "    </tr>\n",
       "    <tr>\n",
       "      <th>112005</th>\n",
       "      <td>RP-T-1886-A-704-26</td>\n",
       "      <td>Bramer, Leonaert</td>\n",
       "      <td>Berglandschap</td>\n",
       "      <td>1652 -  1653</td>\n",
       "      <td>tekening</td>\n",
       "    </tr>\n",
       "    <tr>\n",
       "      <th>112035</th>\n",
       "      <td>RP-P-OB-86.512</td>\n",
       "      <td>Bos, Maarten</td>\n",
       "      <td>Beschieting van het Nederlandse oorlogsschip M...</td>\n",
       "      <td>1863 -  1863</td>\n",
       "      <td>prent</td>\n",
       "    </tr>\n",
       "    <tr>\n",
       "      <th>112037</th>\n",
       "      <td>NG-NM-8358</td>\n",
       "      <td>Coenraads, Jacobus (Senior)</td>\n",
       "      <td>Hartsvanger van Schout bij nacht J.A. Zoutman</td>\n",
       "      <td>1774 -  1790</td>\n",
       "      <td>hartsvanger</td>\n",
       "    </tr>\n",
       "    <tr>\n",
       "      <th>112038</th>\n",
       "      <td>NG-KOG-2192</td>\n",
       "      <td>George</td>\n",
       "      <td>Zilveren stuivers uit 1808</td>\n",
       "      <td>1808 -  1808</td>\n",
       "      <td>munt</td>\n",
       "    </tr>\n",
       "  </tbody>\n",
       "</table>\n",
       "<p>95521 rows × 5 columns</p>\n",
       "</div>"
      ],
      "text/plain": [
       "                Identifier                          Creator  \\\n",
       "0                SK-A-4878   Everdingen, Caesar Boëtius van   \n",
       "1                SK-A-4877                  Maris, Matthijs   \n",
       "2                SK-A-4881                   Maes, Nicolaes   \n",
       "3             RP-P-1992-35      Coornhert, Dirck Volckertsz   \n",
       "4             RP-P-1992-36      Coornhert, Dirck Volckertsz   \n",
       "...                    ...                              ...   \n",
       "112004     RP-P-2011-173-1                     Fellmann, M.   \n",
       "112005  RP-T-1886-A-704-26                 Bramer, Leonaert   \n",
       "112035      RP-P-OB-86.512                     Bos, Maarten   \n",
       "112037          NG-NM-8358      Coenraads, Jacobus (Senior)   \n",
       "112038         NG-KOG-2192                           George   \n",
       "\n",
       "                                                    Title  \\\n",
       "0       Een jonge vrouw haar handen warmend boven een ...   \n",
       "1                                 Portret van Jacob Maris   \n",
       "2       Portret van een jonge man, waarschijnlijk Simo...   \n",
       "3       Keizer Karel V omgeven door zijn overwonnen te...   \n",
       "4       Gevangename van Frans I tijdens de slag van Pa...   \n",
       "...                                                   ...   \n",
       "112004          Apostel Jacobus Maior, allegorie op tabak   \n",
       "112005                                      Berglandschap   \n",
       "112035  Beschieting van het Nederlandse oorlogsschip M...   \n",
       "112037      Hartsvanger van Schout bij nacht J.A. Zoutman   \n",
       "112038                         Zilveren stuivers uit 1808   \n",
       "\n",
       "                       Date         Type  \n",
       "0              1644 -  1648   schilderij  \n",
       "1              1857 -  1857   schilderij  \n",
       "2              1675 -  1685   schilderij  \n",
       "3              1555 -  1555        prent  \n",
       "4              1555 -  1556        prent  \n",
       "...                     ...          ...  \n",
       "112004  ca. 1800 - ca. 1900        prent  \n",
       "112005         1652 -  1653     tekening  \n",
       "112035         1863 -  1863        prent  \n",
       "112037         1774 -  1790  hartsvanger  \n",
       "112038         1808 -  1808         munt  \n",
       "\n",
       "[95521 rows x 5 columns]"
      ]
     },
     "execution_count": 14,
     "metadata": {},
     "output_type": "execute_result"
    }
   ],
   "source": [
    "no_anons = creators[(creators['Creator'] != '') & (creators['Creator'] != ' anoniem')]\n",
    "no_anons"
   ]
  },
  {
   "cell_type": "code",
   "execution_count": 15,
   "id": "24d991f2",
   "metadata": {},
   "outputs": [
    {
     "data": {
      "text/plain": [
       "array([' anoniem'], dtype=object)"
      ]
     },
     "execution_count": 15,
     "metadata": {},
     "output_type": "execute_result"
    }
   ],
   "source": [
    "creators[creators.index == 112036].Creator.values"
   ]
  },
  {
   "cell_type": "code",
   "execution_count": 16,
   "id": "df9cf4cb",
   "metadata": {},
   "outputs": [
    {
     "data": {
      "text/html": [
       "<div>\n",
       "<style scoped>\n",
       "    .dataframe tbody tr th:only-of-type {\n",
       "        vertical-align: middle;\n",
       "    }\n",
       "\n",
       "    .dataframe tbody tr th {\n",
       "        vertical-align: top;\n",
       "    }\n",
       "\n",
       "    .dataframe thead th {\n",
       "        text-align: right;\n",
       "    }\n",
       "</style>\n",
       "<table border=\"1\" class=\"dataframe\">\n",
       "  <thead>\n",
       "    <tr style=\"text-align: right;\">\n",
       "      <th></th>\n",
       "      <th>Identifier</th>\n",
       "      <th>Creator</th>\n",
       "      <th>Title</th>\n",
       "      <th>Date</th>\n",
       "      <th>Type</th>\n",
       "    </tr>\n",
       "  </thead>\n",
       "  <tbody>\n",
       "    <tr>\n",
       "      <th>0</th>\n",
       "      <td>SK-A-4878</td>\n",
       "      <td>Everdingen, Caesar Boëtius van</td>\n",
       "      <td>Een jonge vrouw haar handen warmend boven een ...</td>\n",
       "      <td>1644 -  1648</td>\n",
       "      <td>schilderij</td>\n",
       "    </tr>\n",
       "    <tr>\n",
       "      <th>1</th>\n",
       "      <td>SK-A-4877</td>\n",
       "      <td>Maris, Matthijs</td>\n",
       "      <td>Portret van Jacob Maris</td>\n",
       "      <td>1857 -  1857</td>\n",
       "      <td>schilderij</td>\n",
       "    </tr>\n",
       "    <tr>\n",
       "      <th>2</th>\n",
       "      <td>SK-A-4881</td>\n",
       "      <td>Maes, Nicolaes</td>\n",
       "      <td>Portret van een jonge man, waarschijnlijk Simo...</td>\n",
       "      <td>1675 -  1685</td>\n",
       "      <td>schilderij</td>\n",
       "    </tr>\n",
       "    <tr>\n",
       "      <th>3</th>\n",
       "      <td>RP-P-1992-35</td>\n",
       "      <td>Coornhert, Dirck Volckertsz</td>\n",
       "      <td>Keizer Karel V omgeven door zijn overwonnen te...</td>\n",
       "      <td>1555 -  1555</td>\n",
       "      <td>prent</td>\n",
       "    </tr>\n",
       "    <tr>\n",
       "      <th>4</th>\n",
       "      <td>RP-P-1992-36</td>\n",
       "      <td>Coornhert, Dirck Volckertsz</td>\n",
       "      <td>Gevangename van Frans I tijdens de slag van Pa...</td>\n",
       "      <td>1555 -  1556</td>\n",
       "      <td>prent</td>\n",
       "    </tr>\n",
       "    <tr>\n",
       "      <th>...</th>\n",
       "      <td>...</td>\n",
       "      <td>...</td>\n",
       "      <td>...</td>\n",
       "      <td>...</td>\n",
       "      <td>...</td>\n",
       "    </tr>\n",
       "    <tr>\n",
       "      <th>112004</th>\n",
       "      <td>RP-P-2011-173-1</td>\n",
       "      <td>Fellmann, M.</td>\n",
       "      <td>Apostel Jacobus Maior, allegorie op tabak</td>\n",
       "      <td>ca. 1800 - ca. 1900</td>\n",
       "      <td>prent</td>\n",
       "    </tr>\n",
       "    <tr>\n",
       "      <th>112005</th>\n",
       "      <td>RP-T-1886-A-704-26</td>\n",
       "      <td>Bramer, Leonaert</td>\n",
       "      <td>Berglandschap</td>\n",
       "      <td>1652 -  1653</td>\n",
       "      <td>tekening</td>\n",
       "    </tr>\n",
       "    <tr>\n",
       "      <th>112035</th>\n",
       "      <td>RP-P-OB-86.512</td>\n",
       "      <td>Bos, Maarten</td>\n",
       "      <td>Beschieting van het Nederlandse oorlogsschip M...</td>\n",
       "      <td>1863 -  1863</td>\n",
       "      <td>prent</td>\n",
       "    </tr>\n",
       "    <tr>\n",
       "      <th>112037</th>\n",
       "      <td>NG-NM-8358</td>\n",
       "      <td>Coenraads, Jacobus (Senior)</td>\n",
       "      <td>Hartsvanger van Schout bij nacht J.A. Zoutman</td>\n",
       "      <td>1774 -  1790</td>\n",
       "      <td>hartsvanger</td>\n",
       "    </tr>\n",
       "    <tr>\n",
       "      <th>112038</th>\n",
       "      <td>NG-KOG-2192</td>\n",
       "      <td>George</td>\n",
       "      <td>Zilveren stuivers uit 1808</td>\n",
       "      <td>1808 -  1808</td>\n",
       "      <td>munt</td>\n",
       "    </tr>\n",
       "  </tbody>\n",
       "</table>\n",
       "<p>94668 rows × 5 columns</p>\n",
       "</div>"
      ],
      "text/plain": [
       "                Identifier                          Creator  \\\n",
       "0                SK-A-4878   Everdingen, Caesar Boëtius van   \n",
       "1                SK-A-4877                  Maris, Matthijs   \n",
       "2                SK-A-4881                   Maes, Nicolaes   \n",
       "3             RP-P-1992-35      Coornhert, Dirck Volckertsz   \n",
       "4             RP-P-1992-36      Coornhert, Dirck Volckertsz   \n",
       "...                    ...                              ...   \n",
       "112004     RP-P-2011-173-1                     Fellmann, M.   \n",
       "112005  RP-T-1886-A-704-26                 Bramer, Leonaert   \n",
       "112035      RP-P-OB-86.512                     Bos, Maarten   \n",
       "112037          NG-NM-8358      Coenraads, Jacobus (Senior)   \n",
       "112038         NG-KOG-2192                           George   \n",
       "\n",
       "                                                    Title  \\\n",
       "0       Een jonge vrouw haar handen warmend boven een ...   \n",
       "1                                 Portret van Jacob Maris   \n",
       "2       Portret van een jonge man, waarschijnlijk Simo...   \n",
       "3       Keizer Karel V omgeven door zijn overwonnen te...   \n",
       "4       Gevangename van Frans I tijdens de slag van Pa...   \n",
       "...                                                   ...   \n",
       "112004          Apostel Jacobus Maior, allegorie op tabak   \n",
       "112005                                      Berglandschap   \n",
       "112035  Beschieting van het Nederlandse oorlogsschip M...   \n",
       "112037      Hartsvanger van Schout bij nacht J.A. Zoutman   \n",
       "112038                         Zilveren stuivers uit 1808   \n",
       "\n",
       "                       Date         Type  \n",
       "0              1644 -  1648   schilderij  \n",
       "1              1857 -  1857   schilderij  \n",
       "2              1675 -  1685   schilderij  \n",
       "3              1555 -  1555        prent  \n",
       "4              1555 -  1556        prent  \n",
       "...                     ...          ...  \n",
       "112004  ca. 1800 - ca. 1900        prent  \n",
       "112005         1652 -  1653     tekening  \n",
       "112035         1863 -  1863        prent  \n",
       "112037         1774 -  1790  hartsvanger  \n",
       "112038         1808 -  1808         munt  \n",
       "\n",
       "[94668 rows x 5 columns]"
      ]
     },
     "execution_count": 16,
     "metadata": {},
     "output_type": "execute_result"
    }
   ],
   "source": [
    "no_anons = no_anons[no_anons['Creator'].notna()]\n",
    "no_anons"
   ]
  },
  {
   "cell_type": "code",
   "execution_count": 17,
   "id": "f342a342",
   "metadata": {},
   "outputs": [
    {
     "name": "stdout",
     "output_type": "stream",
     "text": [
      "<class 'pandas.core.frame.DataFrame'>\n",
      "Int64Index: 94668 entries, 0 to 112038\n",
      "Data columns (total 5 columns):\n",
      " #   Column      Non-Null Count  Dtype \n",
      "---  ------      --------------  ----- \n",
      " 0   Identifier  94668 non-null  object\n",
      " 1   Creator     94668 non-null  object\n",
      " 2   Title       94646 non-null  object\n",
      " 3   Date        94668 non-null  object\n",
      " 4   Type        94654 non-null  object\n",
      "dtypes: object(5)\n",
      "memory usage: 4.3+ MB\n"
     ]
    }
   ],
   "source": [
    "no_anons.info()"
   ]
  },
  {
   "cell_type": "code",
   "execution_count": 62,
   "id": "d7172e8f",
   "metadata": {},
   "outputs": [
    {
     "data": {
      "text/plain": [
       "True"
      ]
     },
     "execution_count": 62,
     "metadata": {},
     "output_type": "execute_result"
    }
   ],
   "source": [
    "nan_rows = no_anons[no_anons['Creator'].isnull()]\n",
    "math.isnan(nan_rows.iloc[2, 1])"
   ]
  },
  {
   "cell_type": "code",
   "execution_count": 5,
   "id": "868ab3ce",
   "metadata": {},
   "outputs": [],
   "source": [
    "# no_anons.to_csv('xml_files_no_anons.csv', index=False)\n",
    "# creators.to_csv('xml_files.csv', index=False)"
   ]
  },
  {
   "cell_type": "code",
   "execution_count": 6,
   "id": "0998dff9",
   "metadata": {},
   "outputs": [
    {
     "data": {
      "text/plain": [
       "'Everdingen, Caesar Boëtius van'"
      ]
     },
     "execution_count": 6,
     "metadata": {},
     "output_type": "execute_result"
    }
   ],
   "source": [
    "# test = creators[creators.Identifier == 'NG-NM-7753']['Creator']\n",
    "no_anons.loc[no_anons.Identifier=='SK-A-4878','Creator'].values[0]"
   ]
  },
  {
   "cell_type": "code",
   "execution_count": 18,
   "id": "156260b2",
   "metadata": {},
   "outputs": [
    {
     "data": {
      "text/plain": [
       "6622"
      ]
     },
     "execution_count": 18,
     "metadata": {},
     "output_type": "execute_result"
    }
   ],
   "source": [
    "unique_creators = creators['Creator'].unique()\n",
    "len(unique_creators)"
   ]
  },
  {
   "cell_type": "code",
   "execution_count": 20,
   "id": "dcb89caa",
   "metadata": {
    "scrolled": false
   },
   "outputs": [
    {
     "data": {
      "text/html": [
       "<div>\n",
       "<style scoped>\n",
       "    .dataframe tbody tr th:only-of-type {\n",
       "        vertical-align: middle;\n",
       "    }\n",
       "\n",
       "    .dataframe tbody tr th {\n",
       "        vertical-align: top;\n",
       "    }\n",
       "\n",
       "    .dataframe thead th {\n",
       "        text-align: right;\n",
       "    }\n",
       "</style>\n",
       "<table border=\"1\" class=\"dataframe\">\n",
       "  <thead>\n",
       "    <tr style=\"text-align: right;\">\n",
       "      <th></th>\n",
       "      <th>Creator</th>\n",
       "      <th>Identifier</th>\n",
       "      <th>Title</th>\n",
       "      <th>Date</th>\n",
       "      <th>Type</th>\n",
       "    </tr>\n",
       "  </thead>\n",
       "  <tbody>\n",
       "    <tr>\n",
       "      <th>0</th>\n",
       "      <td>Luyken, Jan</td>\n",
       "      <td>1928</td>\n",
       "      <td>1928</td>\n",
       "      <td>1928</td>\n",
       "      <td>1928</td>\n",
       "    </tr>\n",
       "    <tr>\n",
       "      <th>1</th>\n",
       "      <td>Picart, Bernard</td>\n",
       "      <td>1504</td>\n",
       "      <td>1504</td>\n",
       "      <td>1504</td>\n",
       "      <td>1504</td>\n",
       "    </tr>\n",
       "    <tr>\n",
       "      <th>2</th>\n",
       "      <td>Rembrandt Harmensz. van Rijn</td>\n",
       "      <td>1384</td>\n",
       "      <td>1384</td>\n",
       "      <td>1384</td>\n",
       "      <td>1384</td>\n",
       "    </tr>\n",
       "    <tr>\n",
       "      <th>3</th>\n",
       "      <td>Fokke, Simon</td>\n",
       "      <td>1267</td>\n",
       "      <td>1267</td>\n",
       "      <td>1267</td>\n",
       "      <td>1267</td>\n",
       "    </tr>\n",
       "    <tr>\n",
       "      <th>4</th>\n",
       "      <td>Houbraken, Jacob</td>\n",
       "      <td>1148</td>\n",
       "      <td>1148</td>\n",
       "      <td>1148</td>\n",
       "      <td>1148</td>\n",
       "    </tr>\n",
       "    <tr>\n",
       "      <th>5</th>\n",
       "      <td>Hooghe, Romeyn de</td>\n",
       "      <td>1119</td>\n",
       "      <td>1119</td>\n",
       "      <td>1119</td>\n",
       "      <td>1119</td>\n",
       "    </tr>\n",
       "    <tr>\n",
       "      <th>6</th>\n",
       "      <td>Callot, Jacques</td>\n",
       "      <td>1013</td>\n",
       "      <td>1013</td>\n",
       "      <td>1013</td>\n",
       "      <td>1013</td>\n",
       "    </tr>\n",
       "    <tr>\n",
       "      <th>7</th>\n",
       "      <td>Meissener Porzellan Manufaktur</td>\n",
       "      <td>1003</td>\n",
       "      <td>1003</td>\n",
       "      <td>1003</td>\n",
       "      <td>1003</td>\n",
       "    </tr>\n",
       "    <tr>\n",
       "      <th>8</th>\n",
       "      <td>Gheyn, Jacob de (II)</td>\n",
       "      <td>893</td>\n",
       "      <td>893</td>\n",
       "      <td>893</td>\n",
       "      <td>893</td>\n",
       "    </tr>\n",
       "    <tr>\n",
       "      <th>9</th>\n",
       "      <td>Passe, Crispijn van de (I)</td>\n",
       "      <td>856</td>\n",
       "      <td>856</td>\n",
       "      <td>856</td>\n",
       "      <td>856</td>\n",
       "    </tr>\n",
       "    <tr>\n",
       "      <th>10</th>\n",
       "      <td>Galle, Philips</td>\n",
       "      <td>838</td>\n",
       "      <td>838</td>\n",
       "      <td>838</td>\n",
       "      <td>838</td>\n",
       "    </tr>\n",
       "    <tr>\n",
       "      <th>11</th>\n",
       "      <td>Goltzius, Hendrick</td>\n",
       "      <td>810</td>\n",
       "      <td>810</td>\n",
       "      <td>810</td>\n",
       "      <td>810</td>\n",
       "    </tr>\n",
       "    <tr>\n",
       "      <th>12</th>\n",
       "      <td>Collaert, Adriaen</td>\n",
       "      <td>649</td>\n",
       "      <td>649</td>\n",
       "      <td>649</td>\n",
       "      <td>649</td>\n",
       "    </tr>\n",
       "    <tr>\n",
       "      <th>13</th>\n",
       "      <td>Hogenberg, Frans</td>\n",
       "      <td>640</td>\n",
       "      <td>640</td>\n",
       "      <td>640</td>\n",
       "      <td>640</td>\n",
       "    </tr>\n",
       "    <tr>\n",
       "      <th>14</th>\n",
       "      <td>Vinkeles, Reinier</td>\n",
       "      <td>623</td>\n",
       "      <td>623</td>\n",
       "      <td>623</td>\n",
       "      <td>623</td>\n",
       "    </tr>\n",
       "  </tbody>\n",
       "</table>\n",
       "</div>"
      ],
      "text/plain": [
       "                            Creator  Identifier  Title  Date  Type\n",
       "0                       Luyken, Jan        1928   1928  1928  1928\n",
       "1                   Picart, Bernard        1504   1504  1504  1504\n",
       "2      Rembrandt Harmensz. van Rijn        1384   1384  1384  1384\n",
       "3                      Fokke, Simon        1267   1267  1267  1267\n",
       "4                  Houbraken, Jacob        1148   1148  1148  1148\n",
       "5                 Hooghe, Romeyn de        1119   1119  1119  1119\n",
       "6                   Callot, Jacques        1013   1013  1013  1013\n",
       "7    Meissener Porzellan Manufaktur        1003   1003  1003  1003\n",
       "8              Gheyn, Jacob de (II)         893    893   893   893\n",
       "9        Passe, Crispijn van de (I)         856    856   856   856\n",
       "10                   Galle, Philips         838    838   838   838\n",
       "11               Goltzius, Hendrick         810    810   810   810\n",
       "12                Collaert, Adriaen         649    649   649   649\n",
       "13                 Hogenberg, Frans         640    640   640   640\n",
       "14                Vinkeles, Reinier         623    623   623   623"
      ]
     },
     "execution_count": 20,
     "metadata": {},
     "output_type": "execute_result"
    }
   ],
   "source": [
    "grouped = no_anons.groupby('Creator').count()\n",
    "\n",
    "grouped = grouped.sort_values('Title', ascending=False)\n",
    "# selection = grouped\n",
    "grouped = grouped.reset_index()\n",
    "# grouped = grouped.drop([0, 11])\n",
    "grouped.head(15)"
   ]
  },
  {
   "cell_type": "code",
   "execution_count": 21,
   "id": "d45b05e1",
   "metadata": {},
   "outputs": [
    {
     "data": {
      "text/plain": [
       "' Goltzius, Hendrick'"
      ]
     },
     "execution_count": 21,
     "metadata": {},
     "output_type": "execute_result"
    }
   ],
   "source": [
    "grouped.iloc[11]['Creator']"
   ]
  },
  {
   "cell_type": "code",
   "execution_count": 10,
   "id": "9df13217",
   "metadata": {},
   "outputs": [
    {
     "data": {
      "image/png": "[encoded data removed]",
      "text/plain": [
       "<Figure size 1152x648 with 1 Axes>"
      ]
     },
     "metadata": {},
     "output_type": "display_data"
    }
   ],
   "source": [
    "# fig, ax = plt.subplots(figsize =(16, 9))\n",
    "# # plt.bar(selection['Creator'], selection['Title'])\n",
    "# ax.barh(grouped['Creator'], grouped['Title'])\n",
    "# plt.show()"
   ]
  },
  {
   "cell_type": "code",
   "execution_count": 69,
   "id": "e140c616",
   "metadata": {},
   "outputs": [],
   "source": [
    "frequents = grouped[grouped['Title'] >= 10]"
   ]
  },
  {
   "cell_type": "code",
   "execution_count": 73,
   "id": "57a0df84",
   "metadata": {},
   "outputs": [
    {
     "data": {
      "text/plain": [
       "82588"
      ]
     },
     "execution_count": 73,
     "metadata": {},
     "output_type": "execute_result"
    }
   ],
   "source": [
    "frequents.Type.sum()"
   ]
  },
  {
   "cell_type": "code",
   "execution_count": 71,
   "id": "62e022e7",
   "metadata": {},
   "outputs": [
    {
     "name": "stdout",
     "output_type": "stream",
     "text": [
      "<class 'pandas.core.frame.DataFrame'>\n",
      "Int64Index: 1196 entries, 0 to 1195\n",
      "Data columns (total 5 columns):\n",
      " #   Column      Non-Null Count  Dtype \n",
      "---  ------      --------------  ----- \n",
      " 0   Creator     1196 non-null   object\n",
      " 1   Identifier  1196 non-null   int64 \n",
      " 2   Title       1196 non-null   int64 \n",
      " 3   Date        1196 non-null   int64 \n",
      " 4   Type        1196 non-null   int64 \n",
      "dtypes: int64(4), object(1)\n",
      "memory usage: 56.1+ KB\n"
     ]
    }
   ],
   "source": [
    "frequents.info()"
   ]
  },
  {
   "cell_type": "code",
   "execution_count": 74,
   "id": "29b4b53d",
   "metadata": {},
   "outputs": [
    {
     "name": "stderr",
     "output_type": "stream",
     "text": [
      "C:\\Users\\Lotte\\anaconda3\\lib\\site-packages\\seaborn\\distributions.py:2619: FutureWarning: `distplot` is a deprecated function and will be removed in a future version. Please adapt your code to use either `displot` (a figure-level function with similar flexibility) or `histplot` (an axes-level function for histograms).\n",
      "  warnings.warn(msg, FutureWarning)\n"
     ]
    },
    {
     "data": {
      "image/png": "[encoded data removed]",
      "text/plain": [
       "<Figure size 792x576 with 1 Axes>"
      ]
     },
     "metadata": {},
     "output_type": "display_data"
    }
   ],
   "source": [
    "ax = sn.distplot(frequents['Title'], bins=200, hist=True, kde=False, rug=False)\n",
    "ax.set(xlabel=\"Amount of artworks in the dataset\", ylabel=\"Number of creators\")\n",
    "plt.show()"
   ]
  },
  {
   "cell_type": "code",
   "execution_count": 75,
   "id": "6dd4db85",
   "metadata": {},
   "outputs": [],
   "source": [
    "def get_dims(file):\n",
    "    '''Returns dimenstions for an RBG image'''\n",
    "    im = Image.open(file)\n",
    "    arr = np.array(im)\n",
    "    dims = arr.shape\n",
    "    return dims[0], dims[1]"
   ]
  },
  {
   "cell_type": "code",
   "execution_count": 35,
   "id": "031a753d",
   "metadata": {},
   "outputs": [],
   "source": [
    "img_files = glob.glob('../Data/Rijksmuseum/jpg2/*.jpg')"
   ]
  },
  {
   "cell_type": "code",
   "execution_count": 38,
   "id": "7259911c",
   "metadata": {},
   "outputs": [
    {
     "name": "stdout",
     "output_type": "stream",
     "text": [
      "[########################################] | 100% Completed | 38.2s\n"
     ]
    },
    {
     "name": "stderr",
     "output_type": "stream",
     "text": [
      "*c* argument looks like a single numeric RGB or RGBA sequence, which should be avoided as value-mapping will have precedence in case its length matches with *x* & *y*.  Please use the *color* keyword-argument or provide a 2D array with a single row if you intend to specify the same RGB or RGBA value for all points.\n"
     ]
    },
    {
     "data": {
      "image/png": "[encoded data removed]",
      "text/plain": [
       "<Figure size 792x576 with 1 Axes>"
      ]
     },
     "metadata": {},
     "output_type": "display_data"
    }
   ],
   "source": [
    "dims = bag.from_sequence(img_files).map(get_dims)\n",
    "with ProgressBar():\n",
    "    dims = dims.compute()\n",
    "    dim_df = pd.DataFrame(dims, columns=['height', 'width'])\n",
    "    sizes = dim_df.groupby(['height', 'width']).size().reset_index().rename(columns={0:'count'})\n",
    "    sizes.plot.scatter(x='width', y='height');\n",
    "    plt.title('Image Sizes (pixels)')"
   ]
  },
  {
   "cell_type": "code",
   "execution_count": null,
   "id": "ee637f70",
   "metadata": {},
   "outputs": [],
   "source": []
  },
  {
   "cell_type": "code",
   "execution_count": null,
   "id": "fc630728",
   "metadata": {},
   "outputs": [],
   "source": []
  },
  {
   "cell_type": "code",
   "execution_count": null,
   "id": "42caaf7e",
   "metadata": {},
   "outputs": [],
   "source": []
  }
 ],
 "metadata": {
  "kernelspec": {
   "display_name": "Python 3 (ipykernel)",
   "language": "python",
   "name": "python3"
  },
  "language_info": {
   "codemirror_mode": {
    "name": "ipython",
    "version": 3
   },
   "file_extension": ".py",
   "mimetype": "text/x-python",
   "name": "python",
   "nbconvert_exporter": "python",
   "pygments_lexer": "ipython3",
   "version": "3.9.7"
  }
 },
 "nbformat": 4,
 "nbformat_minor": 5
}
