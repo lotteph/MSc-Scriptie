{
 "cells": [
  {
   "cell_type": "code",
   "execution_count": 146,
   "id": "c20168c6",
   "metadata": {},
   "outputs": [],
   "source": [
    "from bs4 import BeautifulSoup\n",
    "# import xml.etree.ElementTree as et\n",
    "import glob\n",
    "import pandas as pd\n",
    "import matplotlib.pyplot as plt"
   ]
  },
  {
   "cell_type": "code",
   "execution_count": 7,
   "id": "4b765f97",
   "metadata": {},
   "outputs": [
    {
     "name": "stdout",
     "output_type": "stream",
     "text": [
      "112039\n"
     ]
    }
   ],
   "source": [
    "xml_files = glob('Data/xml2/*.xml')\n",
    "print(len(xml_files))\n",
    "    "
   ]
  },
  {
   "cell_type": "code",
   "execution_count": 20,
   "id": "d0c60d0e",
   "metadata": {},
   "outputs": [
    {
     "data": {
      "text/plain": [
       "'Data/xml2\\\\0000001_SK-A-4878.xml'"
      ]
     },
     "execution_count": 20,
     "metadata": {},
     "output_type": "execute_result"
    }
   ],
   "source": [
    "xml_files[0]"
   ]
  },
  {
   "cell_type": "code",
   "execution_count": 99,
   "id": "d87fb11f",
   "metadata": {},
   "outputs": [],
   "source": [
    "with open(xml_files[0], 'r') as f:\n",
    "    data = f.read()\n",
    "    \n",
    "bs_data = BeautifulSoup(data, \"xml\")"
   ]
  },
  {
   "cell_type": "code",
   "execution_count": 100,
   "id": "099b0b13",
   "metadata": {
    "scrolled": true
   },
   "outputs": [
    {
     "name": "stdout",
     "output_type": "stream",
     "text": [
      "<?xml version=\"1.0\" encoding=\"utf-8\"?>\n",
      "<record>\n",
      " <header>\n",
      "  <identifier>\n",
      "   oai:rijksmuseum.nl/collection:SK-A-4878\n",
      "  </identifier>\n",
      "  <datestamp>\n",
      "   2012-10-26T09:44:37Z\n",
      "  </datestamp>\n",
      " </header>\n",
      " <metadata>\n",
      "  <dc>\n",
      "   <format>\n",
      "    https://www.rijksmuseum.nl/assetimage2.jsp?id=SK-A-4878\n",
      "   </format>\n",
      "   <format>\n",
      "    https://www.rijksmuseum.nl/nl/collectie/SK-A-4878\n",
      "   </format>\n",
      "   <identifier>\n",
      "    SK-A-4878\n",
      "   </identifier>\n",
      "   <identifier>\n",
      "    RM0001.COLLECT.2\n",
      "   </identifier>\n",
      "   <language>\n",
      "    Dutch\n",
      "   </language>\n",
      "   <publisher>\n",
      "    Rijksmuseum\n",
      "   </publisher>\n",
      "   <rights>\n",
      "    http://creativecommons.org/publicdomain/zero/1.0/\n",
      "   </rights>\n",
      "   <date>\n",
      "    1644 -  1648\n",
      "   </date>\n",
      "   <description>\n",
      "    Een jonge vrouw haar handen warmend boven gloeiende kolen in een aardewerken vuurtest. Waarschijnlijk een allegorie op het seizoen Winter. De vrouw draagt een witte muts, oorbellen en een parelsnoer.\n",
      "   </description>\n",
      "   <format>\n",
      "    hoogte 97 CMcmcm\n",
      "   </format>\n",
      "   <format>\n",
      "    breedte 81 CMcmcm\n",
      "   </format>\n",
      "   <format>\n",
      "    diepte 8 CMcmcm\n",
      "   </format>\n",
      "   <format>\n",
      "    materiaal: olieverf\n",
      "   </format>\n",
      "   <format>\n",
      "    materiaal: doek\n",
      "   </format>\n",
      "   <creator>\n",
      "    schilder: Everdingen, Caesar BoÃ«tius van\n",
      "   </creator>\n",
      "   <coverage>\n",
      "    Nederland\n",
      "   </coverage>\n",
      "   <type>\n",
      "    schilderij\n",
      "   </type>\n",
      "   <title>\n",
      "    Een jonge vrouw haar handen warmend boven een vuurtest, mogelijk een allegorie op de Winter\n",
      "   </title>\n",
      "   <coverage>\n",
      "    tweede kwart 17e eeuw\n",
      "   </coverage>\n",
      "   <subject>\n",
      "    Iconclasscode: 41B211\n",
      "   </subject>\n",
      "   <subject>\n",
      "    Iconclasscode: 23D41\n",
      "   </subject>\n",
      "   <contributor>\n",
      "    Aankoop met steun van de Vereniging Rembrandt, mede dankzij het Prins Bernhard Fonds\n",
      "   </contributor>\n",
      "  </dc>\n",
      " </metadata>\n",
      "</record>\n"
     ]
    }
   ],
   "source": [
    "print(bs_data.prettify())\n",
    "# bs_data"
   ]
  },
  {
   "cell_type": "code",
   "execution_count": 106,
   "id": "2b7f8aeb",
   "metadata": {},
   "outputs": [
    {
     "name": "stdout",
     "output_type": "stream",
     "text": [
      "<dc>\n",
      "<format>https://www.rijksmuseum.nl/assetimage2.jsp?id=SK-A-4878</format>\n",
      "<format>https://www.rijksmuseum.nl/nl/collectie/SK-A-4878</format>\n",
      "<identifier>SK-A-4878</identifier>\n",
      "<identifier>RM0001.COLLECT.2</identifier>\n",
      "<language>Dutch</language>\n",
      "<publisher>Rijksmuseum</publisher>\n",
      "<rights>http://creativecommons.org/publicdomain/zero/1.0/</rights>\n",
      "<date>1644 -  1648</date>\n",
      "<description>Een jonge vrouw haar handen warmend boven gloeiende kolen in een aardewerken vuurtest. Waarschijnlijk een allegorie op het seizoen Winter. De vrouw draagt een witte muts, oorbellen en een parelsnoer.</description>\n",
      "<format>hoogte 97 CMcmcm</format>\n",
      "<format>breedte 81 CMcmcm</format>\n",
      "<format>diepte 8 CMcmcm</format>\n",
      "<format>materiaal: olieverf</format>\n",
      "<format>materiaal: doek</format>\n",
      "<creator> schilder: Everdingen, Caesar BoÃ«tius van</creator>\n",
      "<coverage>Nederland</coverage>\n",
      "<type>schilderij</type>\n",
      "<title>Een jonge vrouw haar handen warmend boven een vuurtest, mogelijk een allegorie op de Winter</title>\n",
      "<coverage>tweede kwart 17e eeuw</coverage>\n",
      "<subject>Iconclasscode: 41B211</subject>\n",
      "<subject>Iconclasscode: 23D41</subject>\n",
      "<contributor>Aankoop met steun van de Vereniging Rembrandt, mede dankzij het Prins Bernhard Fonds</contributor>\n",
      "</dc>\n"
     ]
    }
   ],
   "source": [
    "# bs_data.find('metadata').find('identifier')\n",
    "unordered_list = bs_data.find(\"dc\")\n",
    "print(unordered_list)"
   ]
  },
  {
   "cell_type": "code",
   "execution_count": 131,
   "id": "b8f4f914",
   "metadata": {},
   "outputs": [],
   "source": [
    "def remove_tags(bs_data, tag):\n",
    "    node = bs_data.find('metadata').find(tag)\n",
    "    if node:\n",
    "        string = ''.join(node.stripped_strings)\n",
    "    else:\n",
    "        string = ':'\n",
    "#     string = string.split(':')[1]\n",
    "    return string"
   ]
  },
  {
   "cell_type": "code",
   "execution_count": 132,
   "id": "5771111d",
   "metadata": {},
   "outputs": [
    {
     "data": {
      "text/plain": [
       "' Everdingen, Caesar BoÃ«tius van'"
      ]
     },
     "execution_count": 132,
     "metadata": {},
     "output_type": "execute_result"
    }
   ],
   "source": [
    "creator = remove_tags(bs_data, 'creator').split(':')[1]\n",
    "creator"
   ]
  },
  {
   "cell_type": "code",
   "execution_count": 133,
   "id": "ef3e41e7",
   "metadata": {},
   "outputs": [
    {
     "data": {
      "text/plain": [
       "'SK-A-4878'"
      ]
     },
     "execution_count": 133,
     "metadata": {},
     "output_type": "execute_result"
    }
   ],
   "source": [
    "identifier = remove_tags(bs_data, 'identifier')\n",
    "identifier"
   ]
  },
  {
   "cell_type": "code",
   "execution_count": 136,
   "id": "d919de5f",
   "metadata": {},
   "outputs": [],
   "source": [
    "def create_df(xml_files):\n",
    "    tags = []\n",
    "    all_items = []\n",
    "    \n",
    "    for i in range(len(xml_files)):\n",
    "        if i % 1000 == 0:\n",
    "            print(str(round(i/len(xml_files)*100, 3)) + '%')\n",
    "            \n",
    "        with open(xml_files[i], 'r', encoding=\"utf8\") as f:\n",
    "            data = f.read()\n",
    "            \n",
    "        bs_data = BeautifulSoup(data, \"xml\")\n",
    "        \n",
    "        identifier = remove_tags(bs_data, 'identifier')\n",
    "        creator = remove_tags(bs_data, 'creator').split(':')[1]\n",
    "        title = remove_tags(bs_data, 'title')\n",
    "        year = remove_tags(bs_data, 'year')\n",
    "        art_type = remove_tags(bs_data, 'type')\n",
    "#         creators[identifier] = creator\n",
    "        tags = [identifier, creator, title, year, art_type]\n",
    "        all_items.append(tags)\n",
    "        \n",
    "    df = pd.DataFrame(all_items, columns=['Identifier', 'Creator', 'Title', 'Year', 'Type'])\n",
    "#     return pd.DataFrame.from_dict(creators)\n",
    "    return df\n",
    "        "
   ]
  },
  {
   "cell_type": "code",
   "execution_count": 137,
   "id": "762eb92e",
   "metadata": {},
   "outputs": [
    {
     "name": "stdout",
     "output_type": "stream",
     "text": [
      "0.0%\n",
      "0.893%\n",
      "1.785%\n",
      "2.678%\n",
      "3.57%\n",
      "4.463%\n",
      "5.355%\n",
      "6.248%\n",
      "7.14%\n",
      "8.033%\n",
      "8.925%\n",
      "9.818%\n",
      "10.711%\n",
      "11.603%\n",
      "12.496%\n",
      "13.388%\n",
      "14.281%\n",
      "15.173%\n",
      "16.066%\n",
      "16.958%\n",
      "17.851%\n",
      "18.743%\n",
      "19.636%\n",
      "20.529%\n",
      "21.421%\n",
      "22.314%\n",
      "23.206%\n",
      "24.099%\n",
      "24.991%\n",
      "25.884%\n",
      "26.776%\n",
      "27.669%\n",
      "28.561%\n",
      "29.454%\n",
      "30.347%\n",
      "31.239%\n",
      "32.132%\n",
      "33.024%\n",
      "33.917%\n",
      "34.809%\n",
      "35.702%\n",
      "36.594%\n",
      "37.487%\n",
      "38.379%\n",
      "39.272%\n",
      "40.165%\n",
      "41.057%\n",
      "41.95%\n",
      "42.842%\n",
      "43.735%\n",
      "44.627%\n",
      "45.52%\n",
      "46.412%\n",
      "47.305%\n",
      "48.198%\n",
      "49.09%\n",
      "49.983%\n",
      "50.875%\n",
      "51.768%\n",
      "52.66%\n",
      "53.553%\n",
      "54.445%\n",
      "55.338%\n",
      "56.23%\n",
      "57.123%\n",
      "58.016%\n",
      "58.908%\n",
      "59.801%\n",
      "60.693%\n",
      "61.586%\n",
      "62.478%\n",
      "63.371%\n",
      "64.263%\n",
      "65.156%\n",
      "66.048%\n",
      "66.941%\n",
      "67.834%\n",
      "68.726%\n",
      "69.619%\n",
      "70.511%\n",
      "71.404%\n",
      "72.296%\n",
      "73.189%\n",
      "74.081%\n",
      "74.974%\n",
      "75.866%\n",
      "76.759%\n",
      "77.652%\n",
      "78.544%\n",
      "79.437%\n",
      "80.329%\n",
      "81.222%\n",
      "82.114%\n",
      "83.007%\n",
      "83.899%\n",
      "84.792%\n",
      "85.684%\n",
      "86.577%\n",
      "87.47%\n",
      "88.362%\n",
      "89.255%\n",
      "90.147%\n",
      "91.04%\n",
      "91.932%\n",
      "92.825%\n",
      "93.717%\n",
      "94.61%\n",
      "95.502%\n",
      "96.395%\n",
      "97.288%\n",
      "98.18%\n",
      "99.073%\n",
      "99.965%\n"
     ]
    }
   ],
   "source": [
    "creators = create_df(xml_files)"
   ]
  },
  {
   "cell_type": "code",
   "execution_count": 138,
   "id": "3a3ff283",
   "metadata": {},
   "outputs": [
    {
     "data": {
      "text/html": [
       "<div>\n",
       "<style scoped>\n",
       "    .dataframe tbody tr th:only-of-type {\n",
       "        vertical-align: middle;\n",
       "    }\n",
       "\n",
       "    .dataframe tbody tr th {\n",
       "        vertical-align: top;\n",
       "    }\n",
       "\n",
       "    .dataframe thead th {\n",
       "        text-align: right;\n",
       "    }\n",
       "</style>\n",
       "<table border=\"1\" class=\"dataframe\">\n",
       "  <thead>\n",
       "    <tr style=\"text-align: right;\">\n",
       "      <th></th>\n",
       "      <th>Creator</th>\n",
       "      <th>Title</th>\n",
       "      <th>Year</th>\n",
       "      <th>Type</th>\n",
       "    </tr>\n",
       "    <tr>\n",
       "      <th>Identifier</th>\n",
       "      <th></th>\n",
       "      <th></th>\n",
       "      <th></th>\n",
       "      <th></th>\n",
       "    </tr>\n",
       "  </thead>\n",
       "  <tbody>\n",
       "    <tr>\n",
       "      <th>SK-A-4878</th>\n",
       "      <td>Everdingen, Caesar Boëtius van</td>\n",
       "      <td>Een jonge vrouw haar handen warmend boven een ...</td>\n",
       "      <td>:</td>\n",
       "      <td>schilderij</td>\n",
       "    </tr>\n",
       "    <tr>\n",
       "      <th>SK-A-4877</th>\n",
       "      <td>Maris, Matthijs</td>\n",
       "      <td>Portret van Jacob Maris</td>\n",
       "      <td>:</td>\n",
       "      <td>schilderij</td>\n",
       "    </tr>\n",
       "    <tr>\n",
       "      <th>SK-A-4881</th>\n",
       "      <td>Maes, Nicolaes</td>\n",
       "      <td>Portret van een jonge man, waarschijnlijk Simo...</td>\n",
       "      <td>:</td>\n",
       "      <td>schilderij</td>\n",
       "    </tr>\n",
       "    <tr>\n",
       "      <th>RP-P-1992-35</th>\n",
       "      <td>Coornhert, Dirck Volckertsz</td>\n",
       "      <td>Keizer Karel V omgeven door zijn overwonnen te...</td>\n",
       "      <td>:</td>\n",
       "      <td>prent</td>\n",
       "    </tr>\n",
       "    <tr>\n",
       "      <th>RP-P-1992-36</th>\n",
       "      <td>Coornhert, Dirck Volckertsz</td>\n",
       "      <td>Gevangename van Frans I tijdens de slag van Pa...</td>\n",
       "      <td>:</td>\n",
       "      <td>prent</td>\n",
       "    </tr>\n",
       "    <tr>\n",
       "      <th>...</th>\n",
       "      <td>...</td>\n",
       "      <td>...</td>\n",
       "      <td>...</td>\n",
       "      <td>...</td>\n",
       "    </tr>\n",
       "    <tr>\n",
       "      <th>AK-RBK-14763-A-2</th>\n",
       "      <td>anoniem</td>\n",
       "      <td>Schotel beschilderd met lotusranken en een kra...</td>\n",
       "      <td>:</td>\n",
       "      <td>schotel</td>\n",
       "    </tr>\n",
       "    <tr>\n",
       "      <th>RP-P-OB-86.512</th>\n",
       "      <td>Bos, Maarten</td>\n",
       "      <td>Beschieting van het Nederlandse oorlogsschip M...</td>\n",
       "      <td>:</td>\n",
       "      <td>prent</td>\n",
       "    </tr>\n",
       "    <tr>\n",
       "      <th>NG-NM-7753</th>\n",
       "      <td>anoniem</td>\n",
       "      <td>Inktpot met deksel</td>\n",
       "      <td>:</td>\n",
       "      <td>inktpot</td>\n",
       "    </tr>\n",
       "    <tr>\n",
       "      <th>NG-NM-8358</th>\n",
       "      <td>Coenraads, Jacobus (Senior)</td>\n",
       "      <td>Hartsvanger van Schout bij nacht J.A. Zoutman</td>\n",
       "      <td>:</td>\n",
       "      <td>hartsvanger</td>\n",
       "    </tr>\n",
       "    <tr>\n",
       "      <th>NG-KOG-2192</th>\n",
       "      <td>George</td>\n",
       "      <td>Zilveren stuivers uit 1808</td>\n",
       "      <td>:</td>\n",
       "      <td>munt</td>\n",
       "    </tr>\n",
       "  </tbody>\n",
       "</table>\n",
       "<p>112039 rows × 4 columns</p>\n",
       "</div>"
      ],
      "text/plain": [
       "                                          Creator  \\\n",
       "Identifier                                          \n",
       "SK-A-4878          Everdingen, Caesar Boëtius van   \n",
       "SK-A-4877                         Maris, Matthijs   \n",
       "SK-A-4881                          Maes, Nicolaes   \n",
       "RP-P-1992-35          Coornhert, Dirck Volckertsz   \n",
       "RP-P-1992-36          Coornhert, Dirck Volckertsz   \n",
       "...                                           ...   \n",
       "AK-RBK-14763-A-2                          anoniem   \n",
       "RP-P-OB-86.512                       Bos, Maarten   \n",
       "NG-NM-7753                                anoniem   \n",
       "NG-NM-8358            Coenraads, Jacobus (Senior)   \n",
       "NG-KOG-2192                                George   \n",
       "\n",
       "                                                              Title Year  \\\n",
       "Identifier                                                                 \n",
       "SK-A-4878         Een jonge vrouw haar handen warmend boven een ...    :   \n",
       "SK-A-4877                                   Portret van Jacob Maris    :   \n",
       "SK-A-4881         Portret van een jonge man, waarschijnlijk Simo...    :   \n",
       "RP-P-1992-35      Keizer Karel V omgeven door zijn overwonnen te...    :   \n",
       "RP-P-1992-36      Gevangename van Frans I tijdens de slag van Pa...    :   \n",
       "...                                                             ...  ...   \n",
       "AK-RBK-14763-A-2  Schotel beschilderd met lotusranken en een kra...    :   \n",
       "RP-P-OB-86.512    Beschieting van het Nederlandse oorlogsschip M...    :   \n",
       "NG-NM-7753                                       Inktpot met deksel    :   \n",
       "NG-NM-8358            Hartsvanger van Schout bij nacht J.A. Zoutman    :   \n",
       "NG-KOG-2192                              Zilveren stuivers uit 1808    :   \n",
       "\n",
       "                         Type  \n",
       "Identifier                     \n",
       "SK-A-4878          schilderij  \n",
       "SK-A-4877          schilderij  \n",
       "SK-A-4881          schilderij  \n",
       "RP-P-1992-35            prent  \n",
       "RP-P-1992-36            prent  \n",
       "...                       ...  \n",
       "AK-RBK-14763-A-2      schotel  \n",
       "RP-P-OB-86.512          prent  \n",
       "NG-NM-7753            inktpot  \n",
       "NG-NM-8358        hartsvanger  \n",
       "NG-KOG-2192              munt  \n",
       "\n",
       "[112039 rows x 4 columns]"
      ]
     },
     "execution_count": 138,
     "metadata": {},
     "output_type": "execute_result"
    }
   ],
   "source": [
    "creators = creators.set_index('Identifier')\n",
    "creators"
   ]
  },
  {
   "cell_type": "code",
   "execution_count": 142,
   "id": "d8b99100",
   "metadata": {},
   "outputs": [],
   "source": [
    "creators.to_csv('xml_files_filtered.csv', index=False)"
   ]
  },
  {
   "cell_type": "code",
   "execution_count": 139,
   "id": "e9839e99",
   "metadata": {},
   "outputs": [],
   "source": [
    "unique_creators = creators['Creator'].unique()"
   ]
  },
  {
   "cell_type": "code",
   "execution_count": 140,
   "id": "156260b2",
   "metadata": {},
   "outputs": [
    {
     "data": {
      "text/plain": [
       "6622"
      ]
     },
     "execution_count": 140,
     "metadata": {},
     "output_type": "execute_result"
    }
   ],
   "source": [
    "len(unique_creators)"
   ]
  },
  {
   "cell_type": "code",
   "execution_count": 182,
   "id": "dcb89caa",
   "metadata": {},
   "outputs": [
    {
     "data": {
      "text/html": [
       "<div>\n",
       "<style scoped>\n",
       "    .dataframe tbody tr th:only-of-type {\n",
       "        vertical-align: middle;\n",
       "    }\n",
       "\n",
       "    .dataframe tbody tr th {\n",
       "        vertical-align: top;\n",
       "    }\n",
       "\n",
       "    .dataframe thead th {\n",
       "        text-align: right;\n",
       "    }\n",
       "</style>\n",
       "<table border=\"1\" class=\"dataframe\">\n",
       "  <thead>\n",
       "    <tr style=\"text-align: right;\">\n",
       "      <th></th>\n",
       "      <th>Creator</th>\n",
       "      <th>Title</th>\n",
       "    </tr>\n",
       "  </thead>\n",
       "  <tbody>\n",
       "    <tr>\n",
       "      <th>1</th>\n",
       "      <td>Luyken, Jan</td>\n",
       "      <td>1928</td>\n",
       "    </tr>\n",
       "    <tr>\n",
       "      <th>2</th>\n",
       "      <td>Picart, Bernard</td>\n",
       "      <td>1504</td>\n",
       "    </tr>\n",
       "    <tr>\n",
       "      <th>3</th>\n",
       "      <td>Rembrandt Harmensz. van Rijn</td>\n",
       "      <td>1384</td>\n",
       "    </tr>\n",
       "    <tr>\n",
       "      <th>4</th>\n",
       "      <td>Fokke, Simon</td>\n",
       "      <td>1267</td>\n",
       "    </tr>\n",
       "    <tr>\n",
       "      <th>5</th>\n",
       "      <td>Houbraken, Jacob</td>\n",
       "      <td>1148</td>\n",
       "    </tr>\n",
       "    <tr>\n",
       "      <th>...</th>\n",
       "      <td>...</td>\n",
       "      <td>...</td>\n",
       "    </tr>\n",
       "    <tr>\n",
       "      <th>6617</th>\n",
       "      <td>Knoll, François Cornelis</td>\n",
       "      <td>1</td>\n",
       "    </tr>\n",
       "    <tr>\n",
       "      <th>6618</th>\n",
       "      <td>Knop, N.</td>\n",
       "      <td>1</td>\n",
       "    </tr>\n",
       "    <tr>\n",
       "      <th>6619</th>\n",
       "      <td>Knuppe, Henk</td>\n",
       "      <td>1</td>\n",
       "    </tr>\n",
       "    <tr>\n",
       "      <th>6620</th>\n",
       "      <td>Kobell, Franz</td>\n",
       "      <td>1</td>\n",
       "    </tr>\n",
       "    <tr>\n",
       "      <th>6621</th>\n",
       "      <td>Kunihisa, Utagawa</td>\n",
       "      <td>1</td>\n",
       "    </tr>\n",
       "  </tbody>\n",
       "</table>\n",
       "<p>6620 rows × 2 columns</p>\n",
       "</div>"
      ],
      "text/plain": [
       "                            Creator  Title\n",
       "1                       Luyken, Jan   1928\n",
       "2                   Picart, Bernard   1504\n",
       "3      Rembrandt Harmensz. van Rijn   1384\n",
       "4                      Fokke, Simon   1267\n",
       "5                  Houbraken, Jacob   1148\n",
       "...                             ...    ...\n",
       "6617       Knoll, François Cornelis      1\n",
       "6618                       Knop, N.      1\n",
       "6619                   Knuppe, Henk      1\n",
       "6620                  Kobell, Franz      1\n",
       "6621              Kunihisa, Utagawa      1\n",
       "\n",
       "[6620 rows x 2 columns]"
      ]
     },
     "execution_count": 182,
     "metadata": {},
     "output_type": "execute_result"
    }
   ],
   "source": [
    "grouped = creators.groupby('Creator').count()\n",
    "\n",
    "grouped = grouped.sort_values('Title', ascending=False)['Title']\n",
    "# selection = grouped\n",
    "grouped = grouped.reset_index()\n",
    "grouped = grouped.drop([0, 11])\n",
    "grouped"
   ]
  },
  {
   "cell_type": "code",
   "execution_count": 183,
   "id": "9df13217",
   "metadata": {},
   "outputs": [
    {
     "data": {
      "image/png": "[encoded data removed]",
      "text/plain": [
       "<Figure size 1152x648 with 1 Axes>"
      ]
     },
     "metadata": {
      "needs_background": "light"
     },
     "output_type": "display_data"
    }
   ],
   "source": [
    "fig, ax = plt.subplots(figsize =(16, 9))\n",
    "# plt.bar(selection['Creator'], selection['Title'])\n",
    "ax.barh(grouped['Creator'][:15], grouped['Title'][:15])\n",
    "plt.show()"
   ]
  },
  {
   "cell_type": "code",
   "execution_count": 186,
   "id": "e140c616",
   "metadata": {},
   "outputs": [
    {
     "data": {
      "text/plain": [
       "Creator     Luyken, Jan Picart, Bernard Rembrandt Harmens...\n",
       "Title                                                  82620\n",
       "dtype: object"
      ]
     },
     "execution_count": 186,
     "metadata": {},
     "output_type": "execute_result"
    }
   ],
   "source": [
    "grouped[grouped['Title'] >= 10].sum()"
   ]
  },
  {
   "cell_type": "code",
   "execution_count": null,
   "id": "57a0df84",
   "metadata": {},
   "outputs": [],
   "source": []
  }
 ],
 "metadata": {
  "kernelspec": {
   "display_name": "Python 3 (ipykernel)",
   "language": "python",
   "name": "python3"
  },
  "language_info": {
   "codemirror_mode": {
    "name": "ipython",
    "version": 3
   },
   "file_extension": ".py",
   "mimetype": "text/x-python",
   "name": "python",
   "nbconvert_exporter": "python",
   "pygments_lexer": "ipython3",
   "version": "3.9.7"
  }
 },
 "nbformat": 4,
 "nbformat_minor": 5
}
