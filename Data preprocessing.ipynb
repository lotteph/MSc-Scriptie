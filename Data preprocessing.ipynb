{
 "cells": [
  {
   "cell_type": "code",
   "execution_count": 1,
   "id": "5f508c61",
   "metadata": {},
   "outputs": [],
   "source": [
    "# Basic python packages\n",
    "import os\n",
    "from os import listdir\n",
    "from os.path import isfile, join\n",
    "import numpy as np\n",
    "import pandas as pd\n",
    "import matplotlib.pyplot as plt\n",
    "import datetime\n",
    "from collections import defaultdict\n",
    "import glob\n",
    "\n",
    "# General machine learning packages\n",
    "from sklearn.model_selection import train_test_split\n",
    "\n",
    "# Packages related to images\n",
    "from PIL import Image\n",
    "import PIL\n"
   ]
  },
  {
   "cell_type": "code",
   "execution_count": 8,
   "id": "e91e87e8",
   "metadata": {},
   "outputs": [],
   "source": [
    "#Paths to different folders/files\n",
    "image_dir = \"../Data/Rijksmuseum/jpg2\"\n",
    "test_image_dir = \"../Data/Rijksmuseum/test_set\"\n",
    "labels_file = \"../Data/Rijksmuseum/xml_files_no_anons.csv\"\n",
    "training_path = \"../Data/Rijksmuseum/training_data/\"\n",
    "validation_path = \"../Data/Rijksmuseum/validation_data/\"\n",
    "\n",
    "img_size = (200, 200) #Size of the input of the neural networks\n",
    "IMG_SHAPE = img_size + (3,)\n",
    "batch_size = 32\n",
    "n_labels = 6622"
   ]
  },
  {
   "cell_type": "code",
   "execution_count": 9,
   "id": "0aab2e46",
   "metadata": {},
   "outputs": [],
   "source": [
    "# #Paths to different folders/files\n",
    "# image_dir = \"../Data/Rijksmuseum/jpg2\"\n",
    "# resized_img_dir = \"..Data/Rijksmuseum/resized_jpg2\"\n",
    "\n",
    "# train_dir = \"../Data/Rijksmuseum/train_set\"\n",
    "# test_image_dir = \"../Data/Rijksmuseum/test_set\"\n",
    "\n",
    "# training_path = \"../Data/Rijksmuseum/training_data/\"\n",
    "# validation_path = \"../Data/Rijksmuseum/validation_data/\"\n",
    "\n",
    "# labels_file = \"../Data/Rijksmuseum/xml_files.csv\"\n",
    "\n",
    "# img_size = (200, 200) #Size of the input of the neural networks\n",
    "# IMG_SHAPE = img_size + (3,)\n",
    "# batch_size = 32\n",
    "# n_labels = 6620"
   ]
  },
  {
   "cell_type": "code",
   "execution_count": 10,
   "id": "27e8aad2",
   "metadata": {},
   "outputs": [
    {
     "data": {
      "text/html": [
       "<div>\n",
       "<style scoped>\n",
       "    .dataframe tbody tr th:only-of-type {\n",
       "        vertical-align: middle;\n",
       "    }\n",
       "\n",
       "    .dataframe tbody tr th {\n",
       "        vertical-align: top;\n",
       "    }\n",
       "\n",
       "    .dataframe thead th {\n",
       "        text-align: right;\n",
       "    }\n",
       "</style>\n",
       "<table border=\"1\" class=\"dataframe\">\n",
       "  <thead>\n",
       "    <tr style=\"text-align: right;\">\n",
       "      <th></th>\n",
       "      <th>Identifier</th>\n",
       "      <th>Creator</th>\n",
       "    </tr>\n",
       "  </thead>\n",
       "  <tbody>\n",
       "    <tr>\n",
       "      <th>0</th>\n",
       "      <td>SK-A-4878</td>\n",
       "      <td>Everdingen, Caesar Boëtius van</td>\n",
       "    </tr>\n",
       "    <tr>\n",
       "      <th>1</th>\n",
       "      <td>SK-A-4877</td>\n",
       "      <td>Maris, Matthijs</td>\n",
       "    </tr>\n",
       "    <tr>\n",
       "      <th>2</th>\n",
       "      <td>SK-A-4881</td>\n",
       "      <td>Maes, Nicolaes</td>\n",
       "    </tr>\n",
       "    <tr>\n",
       "      <th>3</th>\n",
       "      <td>RP-P-1992-35</td>\n",
       "      <td>Coornhert, Dirck Volckertsz</td>\n",
       "    </tr>\n",
       "    <tr>\n",
       "      <th>4</th>\n",
       "      <td>RP-P-1992-36</td>\n",
       "      <td>Coornhert, Dirck Volckertsz</td>\n",
       "    </tr>\n",
       "    <tr>\n",
       "      <th>...</th>\n",
       "      <td>...</td>\n",
       "      <td>...</td>\n",
       "    </tr>\n",
       "    <tr>\n",
       "      <th>94663</th>\n",
       "      <td>RP-P-2011-173-1</td>\n",
       "      <td>Fellmann, M.</td>\n",
       "    </tr>\n",
       "    <tr>\n",
       "      <th>94664</th>\n",
       "      <td>RP-T-1886-A-704-26</td>\n",
       "      <td>Bramer, Leonaert</td>\n",
       "    </tr>\n",
       "    <tr>\n",
       "      <th>94665</th>\n",
       "      <td>RP-P-OB-86.512</td>\n",
       "      <td>Bos, Maarten</td>\n",
       "    </tr>\n",
       "    <tr>\n",
       "      <th>94666</th>\n",
       "      <td>NG-NM-8358</td>\n",
       "      <td>Coenraads, Jacobus (Senior)</td>\n",
       "    </tr>\n",
       "    <tr>\n",
       "      <th>94667</th>\n",
       "      <td>NG-KOG-2192</td>\n",
       "      <td>George</td>\n",
       "    </tr>\n",
       "  </tbody>\n",
       "</table>\n",
       "<p>94668 rows × 2 columns</p>\n",
       "</div>"
      ],
      "text/plain": [
       "               Identifier                         Creator\n",
       "0               SK-A-4878  Everdingen, Caesar Boëtius van\n",
       "1               SK-A-4877                 Maris, Matthijs\n",
       "2               SK-A-4881                  Maes, Nicolaes\n",
       "3            RP-P-1992-35     Coornhert, Dirck Volckertsz\n",
       "4            RP-P-1992-36     Coornhert, Dirck Volckertsz\n",
       "...                   ...                             ...\n",
       "94663     RP-P-2011-173-1                    Fellmann, M.\n",
       "94664  RP-T-1886-A-704-26                Bramer, Leonaert\n",
       "94665      RP-P-OB-86.512                    Bos, Maarten\n",
       "94666          NG-NM-8358     Coenraads, Jacobus (Senior)\n",
       "94667         NG-KOG-2192                          George\n",
       "\n",
       "[94668 rows x 2 columns]"
      ]
     },
     "execution_count": 10,
     "metadata": {},
     "output_type": "execute_result"
    }
   ],
   "source": [
    "labels = pd.read_csv(labels_file)\n",
    "# labels[['Identifier', 'Creator']]\n",
    "\n",
    "labels = labels[['Identifier', 'Creator']]\n",
    "# subs = subs.set_index('Identifier')\n",
    "labels"
   ]
  },
  {
   "cell_type": "code",
   "execution_count": 12,
   "id": "fa55ec04",
   "metadata": {},
   "outputs": [
    {
     "data": {
      "text/plain": [
       "6620"
      ]
     },
     "execution_count": 12,
     "metadata": {},
     "output_type": "execute_result"
    }
   ],
   "source": [
    "len(labels.Creator.unique())"
   ]
  },
  {
   "cell_type": "markdown",
   "id": "2d8d7cd7",
   "metadata": {},
   "source": [
    "# Image size\n",
    "Most machine learning requires that the input is always of the same size. Because our images are not always of the same size. We have to resize them"
   ]
  },
  {
   "cell_type": "code",
   "execution_count": 17,
   "id": "db1d8e9f",
   "metadata": {},
   "outputs": [],
   "source": [
    "def resize_images(img_names, img_dir, new_img_dir):\n",
    "    #Deprecated, replaced by the flow from directory\n",
    "    for img in img_names:\n",
    "        Image.open(img_dir + \"/\" + img + \".jpg\").resize(img_size).save(new_img_dir + \"/\" + img + \".jpg\")\n",
    "\n",
    "resize_images(labels[\"Identifier\"], image_dir, resized_train_dir)"
   ]
  },
  {
   "cell_type": "markdown",
   "id": "b43b9734",
   "metadata": {},
   "source": [
    "# Split"
   ]
  },
  {
   "cell_type": "code",
   "execution_count": 21,
   "id": "2442b753",
   "metadata": {},
   "outputs": [
    {
     "data": {
      "text/plain": [
       "array(['RP-P-BI-250', 'RP-P-BI-6678', 'RP-P-1880-A-4126', ...,\n",
       "       'RP-P-1944-663', 'SK-C-221', 'RP-P-1918-2049'], dtype=object)"
      ]
     },
     "execution_count": 21,
     "metadata": {},
     "output_type": "execute_result"
    }
   ],
   "source": [
    "X_train, X_test, y_train, y_test = train_test_split(labels[\"Identifier\"].to_numpy(), labels[\"Creator\"].to_numpy(), test_size=0.2, random_state=42)\n",
    "X_train"
   ]
  },
  {
   "cell_type": "markdown",
   "id": "112d792f",
   "metadata": {},
   "source": [
    "# Reformat data for learning\n",
    "To be able to load the data with a generator. We must split the training and validation data and place them into a folder based on their label."
   ]
  },
  {
   "cell_type": "code",
   "execution_count": null,
   "id": "f009546a",
   "metadata": {},
   "outputs": [],
   "source": [
    "def generate_label_folders(image_path, image_names, image_labels, destination_path):\n",
    "    \"\"\"\n",
    "    Splits a single folder with images into multiple folders where images are placed based on their labels.\n",
    "\n",
    "    :image_path: path to the folder with the images\n",
    "    :image_names: A numpy array with the names of all images\n",
    "    :image_labels: A numpy array with the labels of all images\n",
    "    :destination_path: Path of the folder where the images are placed into\n",
    "    :return: Nothing\n",
    "    \"\"\" \n",
    "    for i in range(len(image_names)):\n",
    "        # Check if the directory exists. Else, make one\n",
    "        isExist = os.path.exists(destination_path + str(image_labels[i]))\n",
    "        if not isExist:\n",
    "            os.makedirs(destination_path + str(image_labels[i]))\n",
    "            \n",
    "        # Copy the image\n",
    "        img = Image.open(image_path + \"/\" + image_names[i] + \".jpg\")\n",
    "        img.save(destination_path + \"/\" + str(image_labels[i]) + \"/\" + image_names[i] + \".jpg\")\n",
    "        \n",
    "\n",
    "# generate_label_folders(image_dir, X_train, y_train, training_path)\n",
    "# generate_label_folders(image_dir, X_test, y_test, test_image_dir)"
   ]
  },
  {
   "cell_type": "code",
   "execution_count": null,
   "id": "5c05e0c1",
   "metadata": {},
   "outputs": [],
   "source": []
  },
  {
   "cell_type": "code",
   "execution_count": null,
   "id": "0d9630a9",
   "metadata": {},
   "outputs": [],
   "source": []
  },
  {
   "cell_type": "code",
   "execution_count": null,
   "id": "820ac731",
   "metadata": {},
   "outputs": [],
   "source": []
  }
 ],
 "metadata": {
  "kernelspec": {
   "display_name": "Python 3 (ipykernel)",
   "language": "python",
   "name": "python3"
  },
  "language_info": {
   "codemirror_mode": {
    "name": "ipython",
    "version": 3
   },
   "file_extension": ".py",
   "mimetype": "text/x-python",
   "name": "python",
   "nbconvert_exporter": "python",
   "pygments_lexer": "ipython3",
   "version": "3.9.7"
  }
 },
 "nbformat": 4,
 "nbformat_minor": 5
}
